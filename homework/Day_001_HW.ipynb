{
 "cells": [
  {
   "cell_type": "markdown",
   "metadata": {},
   "source": [
    "# 作業 1"
   ]
  },
  {
   "cell_type": "code",
   "execution_count": 1,
   "metadata": {},
   "outputs": [],
   "source": [
    "import numpy as np\n",
    "x_lin = np.linspace(0,100,101)\n",
    "w = 5\n",
    "b = 10\n",
    "y = (x_lin + np.random.randn(101) * 5) * w + b\n",
    "y_hat = x_lin * w + b"
   ]
  },
  {
   "cell_type": "code",
   "execution_count": 2,
   "metadata": {},
   "outputs": [
    {
     "name": "stdout",
     "output_type": "stream",
     "text": [
      "600.5469602791422\n"
     ]
    }
   ],
   "source": [
    "def mean_square_error(y, yp):\n",
    "    mse = sum((y-yp) ** 2)  / len(y)\n",
    "    return mse\n",
    "\n",
    "mse = mean_square_error(y, y_hat)\n",
    "print(mse)"
   ]
  },
  {
   "cell_type": "markdown",
   "metadata": {},
   "source": [
    "# 作業2"
   ]
  },
  {
   "cell_type": "markdown",
   "metadata": {},
   "source": [
    "1. 你選的這組資料為何重要\n",
    "> 我選的資料是Crimes in Boston, 犯行的阻止，犯罪事證的搜集，被害者的救助，如果能在第一時間就完成，對於社會秩序的穩定，人民生活的安定，起訴及審判的效率及正確性都能有相當程度的提高\n",
    "\n",
    "2. 資料從何而來 (tips: 譬如提供者是誰、以什麼方式蒐集)\n",
    "> 資料來自波士頓警局的報案系統\n",
    "\n",
    "3. 蒐集而來的資料型態為何\n",
    "> 資料型態包括：文字，數字(整數, 浮點數)，日期，布林\n",
    "\n",
    "4. 這組資料想解決的問題如何評估\n",
    "> 特定犯罪型態的規律性？"
   ]
  },
  {
   "cell_type": "markdown",
   "metadata": {},
   "source": [
    "# 作業3"
   ]
  },
  {
   "cell_type": "markdown",
   "metadata": {},
   "source": [
    "1. 核心問題為何 (tips：如何定義 「提升業績 & 你的假設」)\n",
    "> 每日空車之時間比例降低 (空車時間 / 總開車時間)\n",
    "\n",
    "2. 資料從何而來 (tips：哪些資料可能會對你想問的問題產生影響 & 資料如何蒐集)\n",
    "> 派車系統\n",
    "\n",
    "3. 蒐集而來的資料型態為何\n",
    "> 文字(司機編號，負責區域，上下車區域，天氣[晴，雨...]), 時間(上下車時間, 假日), 數字(金額，經緯度，溫濕度)\n",
    "\n",
    "4. 你要回答的問題，其如何評估 (tips：你的假設如何驗證)\n",
    "> 特定天氣，溫濕度對於特定區域空車比例的影嚮"
   ]
  },
  {
   "cell_type": "code",
   "execution_count": null,
   "metadata": {},
   "outputs": [],
   "source": []
  }
 ],
 "metadata": {
  "kernelspec": {
   "display_name": "Python 3",
   "language": "python",
   "name": "python3"
  },
  "language_info": {
   "codemirror_mode": {
    "name": "ipython",
    "version": 3
   },
   "file_extension": ".py",
   "mimetype": "text/x-python",
   "name": "python",
   "nbconvert_exporter": "python",
   "pygments_lexer": "ipython3",
   "version": "3.6.9"
  }
 },
 "nbformat": 4,
 "nbformat_minor": 2
}
