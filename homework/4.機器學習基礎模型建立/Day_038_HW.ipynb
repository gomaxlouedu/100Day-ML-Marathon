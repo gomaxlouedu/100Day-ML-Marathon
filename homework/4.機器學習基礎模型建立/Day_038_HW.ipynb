{
 "cells": [
  {
   "cell_type": "markdown",
   "metadata": {},
   "source": [
    "## [作業重點]\n",
    "使用 Sklearn 中的線性迴歸模型，來訓練各種資料集，務必了解送進去模型訓練的**資料型態**為何，也請了解模型中各項參數的意義"
   ]
  },
  {
   "cell_type": "markdown",
   "metadata": {},
   "source": [
    "## 作業\n",
    "試著使用 sklearn datasets 的其他資料集 (wine, boston, ...)，來訓練自己的線性迴歸模型。"
   ]
  },
  {
   "cell_type": "markdown",
   "metadata": {},
   "source": [
    "### HINT: 注意 label 的型態，確定資料集的目標是分類還是回歸，在使用正確的模型訓練！"
   ]
  },
  {
   "cell_type": "code",
   "execution_count": 3,
   "metadata": {},
   "outputs": [],
   "source": [
    "from sklearn import metrics, datasets\n",
    "from sklearn.model_selection import train_test_split\n",
    "from sklearn.linear_model import LinearRegression, LogisticRegression\n",
    "from sklearn.metrics import mean_squared_error, accuracy_score"
   ]
  },
  {
   "cell_type": "code",
   "execution_count": 4,
   "metadata": {},
   "outputs": [
    {
     "name": "stdout",
     "output_type": "stream",
     "text": [
      "Accuracy:  0.8888888888888888\n"
     ]
    },
    {
     "name": "stderr",
     "output_type": "stream",
     "text": [
      "C:\\Users\\Me\\.julia\\conda\\3\\lib\\site-packages\\sklearn\\linear_model\\logistic.py:947: ConvergenceWarning: lbfgs failed to converge. Increase the number of iterations.\n",
      "  \"of iterations.\", ConvergenceWarning)\n"
     ]
    }
   ],
   "source": [
    "wine = datasets.load_wine()\n",
    "wine_x_train, wine_x_test, wine_y_train, wine_y_test = train_test_split(wine.data, wine.target, test_size=0.1, random_state=4)\n",
    "lr = LogisticRegression(solver='lbfgs', multi_class='auto')\n",
    "lr.fit(wine_x_train, wine_y_train)\n",
    "wine_y_pred = lr.predict(wine_x_test)\n",
    "wine_acc = accuracy_score(wine_y_test, wine_y_pred)\n",
    "print(\"Accuracy: \", wine_acc)"
   ]
  },
  {
   "cell_type": "code",
   "execution_count": 5,
   "metadata": {},
   "outputs": [
    {
     "name": "stdout",
     "output_type": "stream",
     "text": [
      "Coefficients:  [-1.25856659e-01  4.84257396e-02  1.84085281e-02  3.08509569e+00\n",
      " -1.73277018e+01  3.61674713e+00  2.19181853e-03 -1.49361132e+00\n",
      "  3.19979200e-01 -1.27294649e-02 -9.27469086e-01  9.50912468e-03\n",
      " -5.33592471e-01]\n",
      "Mean squared error: 17.04\n"
     ]
    }
   ],
   "source": [
    "boston = datasets.load_boston()\n",
    "boston_x_train, boston_x_test, boston_y_train, boston_y_test = train_test_split(boston.data, boston.target, test_size=0.1, random_state=4)\n",
    "\n",
    "lr = LinearRegression()\n",
    "lr.fit(boston_x_train, boston_y_train)\n",
    "boston_y_pred = lr.predict(boston_x_test)\n",
    "\n",
    "# 可以看回歸模型的參數值\n",
    "print('Coefficients: ', lr.coef_)\n",
    "\n",
    "# 預測值與實際值的差距，使用 MSE\n",
    "print(\"Mean squared error: %.2f\"\n",
    "      % mean_squared_error(boston_y_test, boston_y_pred))"
   ]
  },
  {
   "cell_type": "code",
   "execution_count": 6,
   "metadata": {},
   "outputs": [
    {
     "name": "stdout",
     "output_type": "stream",
     "text": [
      "Coefficients:  [ 1.93673633e-01 -2.63765910e-03 -1.86129309e-02 -5.84839980e-04\n",
      " -1.77327749e+00  4.09682167e+00 -1.40751909e+00 -2.71479960e-01\n",
      " -1.66476131e-01 -7.78472075e-01 -6.47488902e-01  2.34004276e-02\n",
      "  3.50354237e-02  1.68496881e-03 -1.50613380e+01 -3.96540191e+00\n",
      "  3.55047646e+00 -1.27412030e+01  1.98222066e+00  2.25582505e+01\n",
      " -1.87035041e-01 -7.55941680e-03 -2.80583739e-03  1.18205473e-03\n",
      " -3.38470689e-01  6.34735230e-01 -4.80199463e-01 -1.27765734e-01\n",
      " -9.15591218e-01 -6.88559587e+00]\n",
      "Mean squared error: 0.06\n"
     ]
    }
   ],
   "source": [
    "breast_cancer = datasets.load_breast_cancer()\n",
    "bc_x_train, bc_x_test, bc_y_train, bc_y_test = train_test_split(breast_cancer.data, breast_cancer.target, test_size=0.3, random_state=4)\n",
    "lr = LinearRegression()\n",
    "lr.fit(bc_x_train, bc_y_train)\n",
    "bc_y_pred = lr.predict(bc_x_test)\n",
    "# 可以看回歸模型的參數值\n",
    "print('Coefficients: ', lr.coef_)\n",
    "\n",
    "# 預測值與實際值的差距，使用 MSE\n",
    "print(\"Mean squared error: %.2f\"\n",
    "      % mean_squared_error(bc_y_test, bc_y_pred))\n"
   ]
  },
  {
   "cell_type": "code",
   "execution_count": null,
   "metadata": {},
   "outputs": [],
   "source": []
  }
 ],
 "metadata": {
  "kernelspec": {
   "display_name": "Python 3",
   "language": "python",
   "name": "python3"
  },
  "language_info": {
   "codemirror_mode": {
    "name": "ipython",
    "version": 3
   },
   "file_extension": ".py",
   "mimetype": "text/x-python",
   "name": "python",
   "nbconvert_exporter": "python",
   "pygments_lexer": "ipython3",
   "version": "3.6.9"
  }
 },
 "nbformat": 4,
 "nbformat_minor": 2
}
