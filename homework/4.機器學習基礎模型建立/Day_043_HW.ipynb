{
 "cells": [
  {
   "cell_type": "markdown",
   "metadata": {},
   "source": [
    "## [作業重點]\n",
    "了解隨機森林改善了決策樹的什麼缺點？是用什麼方法改進的？"
   ]
  },
  {
   "cell_type": "markdown",
   "metadata": {},
   "source": [
    "## 作業\n",
    "\n",
    "閱讀以下兩篇文獻，了解隨機森林原理，並試著回答後續的思考問題\n",
    "- [隨機森林 (random forest) - 中文](http://hhtucode.blogspot.tw/2013/06/ml-random-forest.html)\n",
    "- [how random forest works - 英文](https://medium.com/@Synced/how-random-forest-algorithm-works-in-machine-learning-3c0fe15b6674)"
   ]
  },
  {
   "cell_type": "markdown",
   "metadata": {},
   "source": [
    "\n",
    "1. 隨機森林中的每一棵樹，是希望能夠\n",
    "\n",
    "    - 沒有任何限制，讓樹可以持續生長 (讓樹生成很深，讓模型變得複雜)\n",
    "    \n",
    "    - 不要過度生長，避免 Overfitting\n",
    "    \n",
    "    \n",
    "2. 假設總共有 N 筆資料，每棵樹用取後放回的方式抽了總共 N 筆資料生成，請問這棵樹大約使用了多少 % 不重複的原資料生成?\n",
    "hint: 0.632 bootstrap\n"
   ]
  },
  {
   "cell_type": "markdown",
   "metadata": {},
   "source": [
    "首先，问题的答案应该是一个概率意义上的值。\n",
    "\n",
    "考虑一个特定的小球 A，每次抽样 A 被抽到的概率为1/100，A 没有被抽到的概率为 1－1/100，则经过100次抽样，A 没有被抽到的概率 P＝(1－1/100)^100。\n",
    "\n",
    "当样本个数不是100，而是非常大的数的时候（比如为 x，x 非常大），A 没有被抽到的概率 P＝(1-1/x)^x。这个式子和我们熟知的一个公式非常像：(1+1/x)^x＝e（x 取正无穷）。\n",
    "\n",
    "设 P＝(1-1/x)^x，则 1/P=((1+1/(x-1))^(x-1))*(1+1/(x-1))，即 P＝1/e＝0.368，解释为在每一次抽样中，每一个小球不被抽到大概率为0.368，经过100次抽样，约有 100*(1-P)=63 个不重复大小球会被抽到\n",
    "1- 0.368 = 0.632"
   ]
  },
  {
   "cell_type": "code",
   "execution_count": null,
   "metadata": {},
   "outputs": [],
   "source": []
  }
 ],
 "metadata": {
  "kernelspec": {
   "display_name": "Python 3",
   "language": "python",
   "name": "python3"
  },
  "language_info": {
   "codemirror_mode": {
    "name": "ipython",
    "version": 3
   },
   "file_extension": ".py",
   "mimetype": "text/x-python",
   "name": "python",
   "nbconvert_exporter": "python",
   "pygments_lexer": "ipython3",
   "version": "3.6.9"
  }
 },
 "nbformat": 4,
 "nbformat_minor": 2
}
