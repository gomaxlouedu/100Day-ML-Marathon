{
  "nbformat": 4,
  "nbformat_minor": 0,
  "metadata": {
    "kernelspec": {
      "name": "python3",
      "display_name": "Python 3"
    },
    "language_info": {
      "codemirror_mode": {
        "name": "ipython",
        "version": 3
      },
      "file_extension": ".py",
      "mimetype": "text/x-python",
      "name": "python",
      "nbconvert_exporter": "python",
      "pygments_lexer": "ipython3",
      "version": "3.6.5"
    },
    "colab": {
      "name": "Day85_HW.ipynb",
      "provenance": []
    },
    "accelerator": "GPU"
  },
  "cells": [
    {
      "cell_type": "markdown",
      "metadata": {
        "id": "I2NCzNcGb8Ks",
        "colab_type": "text"
      },
      "source": [
        "## Work\n",
        "1. 試改變 monitor \"Validation Accuracy\" 並比較結果\n",
        "2. 調整 earlystop 的等待次數至 10, 25 並比較結果"
      ]
    },
    {
      "cell_type": "code",
      "metadata": {
        "id": "sOdWP_M6b8Kt",
        "colab_type": "code",
        "colab": {}
      },
      "source": [
        "import os\n",
        "import keras\n",
        "import matplotlib.pyplot as plt\n",
        "%matplotlib inline\n",
        "\n",
        "\n",
        "# Disable GPU\n",
        "# os.environ[\"CUDA_VISIBLE_DEVICES\"] = \"\""
      ],
      "execution_count": 0,
      "outputs": []
    },
    {
      "cell_type": "code",
      "metadata": {
        "id": "XQFpC7W0b8Kw",
        "colab_type": "code",
        "colab": {}
      },
      "source": [
        "train, test = keras.datasets.cifar10.load_data()"
      ],
      "execution_count": 0,
      "outputs": []
    },
    {
      "cell_type": "code",
      "metadata": {
        "id": "1zNnMHc_b8Ky",
        "colab_type": "code",
        "colab": {}
      },
      "source": [
        "## 資料前處理\n",
        "def preproc_x(x, flatten=True):\n",
        "    x = x / 255.\n",
        "    if flatten:\n",
        "        x = x.reshape((len(x), -1))\n",
        "    return x\n",
        "\n",
        "def preproc_y(y, num_classes=10):\n",
        "    if y.shape[-1] == 1:\n",
        "        y = keras.utils.to_categorical(y, num_classes)\n",
        "    return y    "
      ],
      "execution_count": 0,
      "outputs": []
    },
    {
      "cell_type": "code",
      "metadata": {
        "id": "tm_YfrZOb8K0",
        "colab_type": "code",
        "colab": {}
      },
      "source": [
        "x_train, y_train = train\n",
        "x_test, y_test = test\n",
        "\n",
        "# Preproc the inputs\n",
        "x_train = preproc_x(x_train)\n",
        "x_test = preproc_x(x_test)\n",
        "\n",
        "# Preprc the outputs\n",
        "y_train = preproc_y(y_train)\n",
        "y_test = preproc_y(y_test)"
      ],
      "execution_count": 0,
      "outputs": []
    },
    {
      "cell_type": "code",
      "metadata": {
        "id": "XuZuXryLb8K3",
        "colab_type": "code",
        "colab": {}
      },
      "source": [
        "from keras.layers import Input, Dense, Dropout, BatchNormalization\n",
        "def build_mlp(input_shape, output_units=10, num_neurons=[512, 256, 128]):\n",
        "    \"\"\"Code Here\n",
        "    建立你的神經網路\n",
        "    \"\"\"\n",
        "    input_layer = Input(input_shape)\n",
        "    for i , n_units in enumerate(num_neurons):\n",
        "        if i == 0:\n",
        "            x = Dense(units= n_units, activation='relu', name='hidden_layer'+str(i+1))(input_layer)\n",
        "            x = BatchNormalization()(x)\n",
        "        else:\n",
        "            x = Dense(units= n_units, activation='relu', name='hidden_layer'+str(i+1))(x)\n",
        "            x = BatchNormalization()(x)\n",
        "\n",
        "    output = Dense(units=output_units, activation='softmax', name='output')(x)\n",
        "    model = keras.models.Model(inputs=[input_layer], outputs=[output])\n",
        "\n",
        "    return model"
      ],
      "execution_count": 0,
      "outputs": []
    },
    {
      "cell_type": "code",
      "metadata": {
        "id": "MUYv1dq3b8K5",
        "colab_type": "code",
        "colab": {}
      },
      "source": [
        "\"\"\"Code Here\n",
        "設定超參數\n",
        "\"\"\"\n",
        "LEARNING_RATE = 1e-3\n",
        "EPOCHS = 50\n",
        "BATCH_SIZE = 1024\n",
        "MOMENTUM = 0.95"
      ],
      "execution_count": 0,
      "outputs": []
    },
    {
      "cell_type": "code",
      "metadata": {
        "id": "mX9PHRQKb8K8",
        "colab_type": "code",
        "colab": {
          "base_uri": "https://localhost:8080/",
          "height": 1000
        },
        "outputId": "96c3404e-7763-4d25-93e6-921003d3e728"
      },
      "source": [
        "# 載入 Callbacks\n",
        "\"\"\"Code Here\n",
        "設定 callbacks: Earlystop\n",
        "\"\"\"\n",
        "from keras.callbacks import EarlyStopping\n",
        "earlystop10 = EarlyStopping(monitor='val_acc', patience=5, verbose=1)\n",
        "earlystop25 = EarlyStopping(monitor='val_acc', patience=8, verbose=1)\n",
        "earlystops = [earlystop10, earlystop25]\n",
        "earlystopsName = ['earlystop5', 'earlystop8']\n",
        "results = {}\n",
        "\"\"\"Code Here\n",
        "撰寫你的訓練流程並將結果用 dictionary 紀錄\n",
        "\"\"\"\n",
        "\n",
        "for i, earlystop in enumerate(earlystops):\n",
        "    model = build_mlp(x_train.shape[1:])\n",
        "    opt = keras.optimizers.SGD(lr=LEARNING_RATE, nesterov=True, momentum=MOMENTUM)\n",
        "    model.compile(optimizer= opt, loss='categorical_crossentropy', metrics=['accuracy'])\n",
        "    model.fit(x_train, y_train,\n",
        "              batch_size=BATCH_SIZE,\n",
        "              epochs=EPOCHS,\n",
        "              validation_data=(x_test,y_test),\n",
        "              shuffle=True,\n",
        "              callbacks=[earlystop]\n",
        "              )\n",
        "    \n",
        "    # Collect results\n",
        "    train_loss = model.history.history[\"loss\"]\n",
        "    valid_loss = model.history.history[\"val_loss\"]\n",
        "    train_acc = model.history.history[\"acc\"]\n",
        "    valid_acc = model.history.history[\"val_acc\"]\n",
        "\n",
        "    results[earlystopsName[i]] ={'train-loss': train_loss,\n",
        "                             'valid-loss': valid_loss,\n",
        "                             'train-acc': train_acc,\n",
        "                             'valid-acc': valid_acc}\n",
        "\n"
      ],
      "execution_count": 22,
      "outputs": [
        {
          "output_type": "stream",
          "text": [
            "Train on 50000 samples, validate on 10000 samples\n",
            "Epoch 1/50\n",
            "50000/50000 [==============================] - 3s 60us/step - loss: 2.2231 - acc: 0.2645 - val_loss: 2.0435 - val_acc: 0.3227\n",
            "Epoch 2/50\n",
            "50000/50000 [==============================] - 2s 35us/step - loss: 1.7489 - acc: 0.3876 - val_loss: 1.7891 - val_acc: 0.3819\n",
            "Epoch 3/50\n",
            "50000/50000 [==============================] - 2s 35us/step - loss: 1.6271 - acc: 0.4290 - val_loss: 1.6958 - val_acc: 0.4119\n",
            "Epoch 4/50\n",
            "50000/50000 [==============================] - 2s 35us/step - loss: 1.5547 - acc: 0.4550 - val_loss: 1.6266 - val_acc: 0.4329\n",
            "Epoch 5/50\n",
            "50000/50000 [==============================] - 2s 35us/step - loss: 1.5008 - acc: 0.4756 - val_loss: 1.5934 - val_acc: 0.4435\n",
            "Epoch 6/50\n",
            "50000/50000 [==============================] - 2s 35us/step - loss: 1.4555 - acc: 0.4906 - val_loss: 1.5787 - val_acc: 0.4526\n",
            "Epoch 7/50\n",
            "50000/50000 [==============================] - 2s 35us/step - loss: 1.4168 - acc: 0.5051 - val_loss: 1.5578 - val_acc: 0.4581\n",
            "Epoch 8/50\n",
            "50000/50000 [==============================] - 2s 35us/step - loss: 1.3824 - acc: 0.5183 - val_loss: 1.5396 - val_acc: 0.4585\n",
            "Epoch 9/50\n",
            "50000/50000 [==============================] - 2s 36us/step - loss: 1.3491 - acc: 0.5275 - val_loss: 1.5161 - val_acc: 0.4682\n",
            "Epoch 10/50\n",
            "50000/50000 [==============================] - 2s 35us/step - loss: 1.3182 - acc: 0.5405 - val_loss: 1.5058 - val_acc: 0.4695\n",
            "Epoch 11/50\n",
            "50000/50000 [==============================] - 2s 35us/step - loss: 1.2895 - acc: 0.5525 - val_loss: 1.4920 - val_acc: 0.4726\n",
            "Epoch 12/50\n",
            "50000/50000 [==============================] - 2s 35us/step - loss: 1.2640 - acc: 0.5614 - val_loss: 1.4989 - val_acc: 0.4714\n",
            "Epoch 13/50\n",
            "50000/50000 [==============================] - 2s 35us/step - loss: 1.2373 - acc: 0.5718 - val_loss: 1.4921 - val_acc: 0.4785\n",
            "Epoch 14/50\n",
            "50000/50000 [==============================] - 2s 35us/step - loss: 1.2117 - acc: 0.5797 - val_loss: 1.4820 - val_acc: 0.4767\n",
            "Epoch 15/50\n",
            "50000/50000 [==============================] - 2s 35us/step - loss: 1.1894 - acc: 0.5875 - val_loss: 1.4785 - val_acc: 0.4771\n",
            "Epoch 16/50\n",
            "50000/50000 [==============================] - 2s 35us/step - loss: 1.1646 - acc: 0.5997 - val_loss: 1.4703 - val_acc: 0.4799\n",
            "Epoch 17/50\n",
            "50000/50000 [==============================] - 2s 35us/step - loss: 1.1415 - acc: 0.6071 - val_loss: 1.4705 - val_acc: 0.4886\n",
            "Epoch 18/50\n",
            "50000/50000 [==============================] - 2s 35us/step - loss: 1.1190 - acc: 0.6171 - val_loss: 1.4642 - val_acc: 0.4871\n",
            "Epoch 19/50\n",
            "50000/50000 [==============================] - 2s 35us/step - loss: 1.0943 - acc: 0.6259 - val_loss: 1.4611 - val_acc: 0.4897\n",
            "Epoch 20/50\n",
            "50000/50000 [==============================] - 2s 35us/step - loss: 1.0729 - acc: 0.6346 - val_loss: 1.4596 - val_acc: 0.4921\n",
            "Epoch 21/50\n",
            "50000/50000 [==============================] - 2s 35us/step - loss: 1.0503 - acc: 0.6437 - val_loss: 1.4608 - val_acc: 0.4876\n",
            "Epoch 22/50\n",
            "50000/50000 [==============================] - 2s 35us/step - loss: 1.0289 - acc: 0.6521 - val_loss: 1.4644 - val_acc: 0.4933\n",
            "Epoch 23/50\n",
            "50000/50000 [==============================] - 2s 35us/step - loss: 1.0081 - acc: 0.6589 - val_loss: 1.4720 - val_acc: 0.4873\n",
            "Epoch 24/50\n",
            "50000/50000 [==============================] - 2s 35us/step - loss: 0.9856 - acc: 0.6693 - val_loss: 1.4666 - val_acc: 0.4912\n",
            "Epoch 25/50\n",
            "50000/50000 [==============================] - 2s 35us/step - loss: 0.9652 - acc: 0.6758 - val_loss: 1.4690 - val_acc: 0.4922\n",
            "Epoch 26/50\n",
            "50000/50000 [==============================] - 2s 36us/step - loss: 0.9451 - acc: 0.6846 - val_loss: 1.4714 - val_acc: 0.4964\n",
            "Epoch 27/50\n",
            "50000/50000 [==============================] - 2s 35us/step - loss: 0.9237 - acc: 0.6906 - val_loss: 1.4746 - val_acc: 0.4919\n",
            "Epoch 28/50\n",
            "50000/50000 [==============================] - 2s 36us/step - loss: 0.9013 - acc: 0.7005 - val_loss: 1.4780 - val_acc: 0.4958\n",
            "Epoch 29/50\n",
            "50000/50000 [==============================] - 2s 36us/step - loss: 0.8829 - acc: 0.7073 - val_loss: 1.4841 - val_acc: 0.4925\n",
            "Epoch 30/50\n",
            "50000/50000 [==============================] - 2s 37us/step - loss: 0.8602 - acc: 0.7157 - val_loss: 1.5020 - val_acc: 0.4902\n",
            "Epoch 31/50\n",
            "50000/50000 [==============================] - 2s 36us/step - loss: 0.8407 - acc: 0.7249 - val_loss: 1.5012 - val_acc: 0.4918\n",
            "Epoch 00031: early stopping\n",
            "Train on 50000 samples, validate on 10000 samples\n",
            "Epoch 1/50\n",
            "50000/50000 [==============================] - 3s 65us/step - loss: 2.1969 - acc: 0.2713 - val_loss: 2.1388 - val_acc: 0.3142\n",
            "Epoch 2/50\n",
            "50000/50000 [==============================] - 2s 35us/step - loss: 1.7302 - acc: 0.3933 - val_loss: 1.7684 - val_acc: 0.3897\n",
            "Epoch 3/50\n",
            "50000/50000 [==============================] - 2s 36us/step - loss: 1.6089 - acc: 0.4346 - val_loss: 1.6751 - val_acc: 0.4158\n",
            "Epoch 4/50\n",
            "50000/50000 [==============================] - 2s 35us/step - loss: 1.5398 - acc: 0.4590 - val_loss: 1.6245 - val_acc: 0.4357\n",
            "Epoch 5/50\n",
            "50000/50000 [==============================] - 2s 35us/step - loss: 1.4857 - acc: 0.4778 - val_loss: 1.6020 - val_acc: 0.4394\n",
            "Epoch 6/50\n",
            "50000/50000 [==============================] - 2s 35us/step - loss: 1.4407 - acc: 0.4951 - val_loss: 1.5563 - val_acc: 0.4521\n",
            "Epoch 7/50\n",
            "50000/50000 [==============================] - 2s 35us/step - loss: 1.4012 - acc: 0.5089 - val_loss: 1.5406 - val_acc: 0.4515\n",
            "Epoch 8/50\n",
            "50000/50000 [==============================] - 2s 35us/step - loss: 1.3681 - acc: 0.5219 - val_loss: 1.5226 - val_acc: 0.4644\n",
            "Epoch 9/50\n",
            "50000/50000 [==============================] - 2s 35us/step - loss: 1.3372 - acc: 0.5318 - val_loss: 1.5156 - val_acc: 0.4639\n",
            "Epoch 10/50\n",
            "50000/50000 [==============================] - 2s 35us/step - loss: 1.3059 - acc: 0.5436 - val_loss: 1.4925 - val_acc: 0.4719\n",
            "Epoch 11/50\n",
            "50000/50000 [==============================] - 2s 35us/step - loss: 1.2795 - acc: 0.5562 - val_loss: 1.4957 - val_acc: 0.4779\n",
            "Epoch 12/50\n",
            "50000/50000 [==============================] - 2s 36us/step - loss: 1.2531 - acc: 0.5645 - val_loss: 1.4839 - val_acc: 0.4761\n",
            "Epoch 13/50\n",
            "50000/50000 [==============================] - 2s 37us/step - loss: 1.2274 - acc: 0.5730 - val_loss: 1.4799 - val_acc: 0.4795\n",
            "Epoch 14/50\n",
            "50000/50000 [==============================] - 2s 35us/step - loss: 1.2036 - acc: 0.5826 - val_loss: 1.4702 - val_acc: 0.4833\n",
            "Epoch 15/50\n",
            "50000/50000 [==============================] - 2s 35us/step - loss: 1.1788 - acc: 0.5909 - val_loss: 1.4658 - val_acc: 0.4834\n",
            "Epoch 16/50\n",
            "50000/50000 [==============================] - 2s 35us/step - loss: 1.1573 - acc: 0.5991 - val_loss: 1.4584 - val_acc: 0.4852\n",
            "Epoch 17/50\n",
            "50000/50000 [==============================] - 2s 35us/step - loss: 1.1321 - acc: 0.6101 - val_loss: 1.4650 - val_acc: 0.4865\n",
            "Epoch 18/50\n",
            "50000/50000 [==============================] - 2s 36us/step - loss: 1.1117 - acc: 0.6160 - val_loss: 1.4595 - val_acc: 0.4847\n",
            "Epoch 19/50\n",
            "50000/50000 [==============================] - 2s 35us/step - loss: 1.0898 - acc: 0.6252 - val_loss: 1.4620 - val_acc: 0.4878\n",
            "Epoch 20/50\n",
            "50000/50000 [==============================] - 2s 35us/step - loss: 1.0669 - acc: 0.6342 - val_loss: 1.4571 - val_acc: 0.4925\n",
            "Epoch 21/50\n",
            "50000/50000 [==============================] - 2s 35us/step - loss: 1.0458 - acc: 0.6420 - val_loss: 1.4592 - val_acc: 0.4936\n",
            "Epoch 22/50\n",
            "50000/50000 [==============================] - 2s 35us/step - loss: 1.0241 - acc: 0.6501 - val_loss: 1.4582 - val_acc: 0.4912\n",
            "Epoch 23/50\n",
            "50000/50000 [==============================] - 2s 35us/step - loss: 1.0038 - acc: 0.6577 - val_loss: 1.4759 - val_acc: 0.4877\n",
            "Epoch 24/50\n",
            "50000/50000 [==============================] - 2s 35us/step - loss: 0.9823 - acc: 0.6665 - val_loss: 1.4561 - val_acc: 0.4980\n",
            "Epoch 25/50\n",
            "50000/50000 [==============================] - 2s 35us/step - loss: 0.9624 - acc: 0.6748 - val_loss: 1.4641 - val_acc: 0.4890\n",
            "Epoch 26/50\n",
            "50000/50000 [==============================] - 2s 35us/step - loss: 0.9436 - acc: 0.6821 - val_loss: 1.4686 - val_acc: 0.5010\n",
            "Epoch 27/50\n",
            "50000/50000 [==============================] - 2s 36us/step - loss: 0.9227 - acc: 0.6911 - val_loss: 1.4780 - val_acc: 0.4905\n",
            "Epoch 28/50\n",
            "50000/50000 [==============================] - 2s 35us/step - loss: 0.9029 - acc: 0.6975 - val_loss: 1.4658 - val_acc: 0.4976\n",
            "Epoch 29/50\n",
            "50000/50000 [==============================] - 2s 36us/step - loss: 0.8835 - acc: 0.7055 - val_loss: 1.4808 - val_acc: 0.4942\n",
            "Epoch 30/50\n",
            "50000/50000 [==============================] - 2s 35us/step - loss: 0.8658 - acc: 0.7126 - val_loss: 1.4770 - val_acc: 0.4983\n",
            "Epoch 31/50\n",
            "50000/50000 [==============================] - 2s 35us/step - loss: 0.8443 - acc: 0.7211 - val_loss: 1.4862 - val_acc: 0.4968\n",
            "Epoch 32/50\n",
            "50000/50000 [==============================] - 2s 35us/step - loss: 0.8273 - acc: 0.7290 - val_loss: 1.4851 - val_acc: 0.4942\n",
            "Epoch 33/50\n",
            "50000/50000 [==============================] - 2s 35us/step - loss: 0.8060 - acc: 0.7383 - val_loss: 1.4953 - val_acc: 0.4996\n",
            "Epoch 34/50\n",
            "50000/50000 [==============================] - 2s 35us/step - loss: 0.7879 - acc: 0.7432 - val_loss: 1.5141 - val_acc: 0.4932\n",
            "Epoch 00034: early stopping\n"
          ],
          "name": "stdout"
        }
      ]
    },
    {
      "cell_type": "code",
      "metadata": {
        "id": "JxoBrL8Xb8K-",
        "colab_type": "code",
        "colab": {
          "base_uri": "https://localhost:8080/",
          "height": 763
        },
        "outputId": "91cbc26f-3057-4a43-c16d-e2f6915cf994"
      },
      "source": [
        "import matplotlib.pyplot as plt\n",
        "%matplotlib inline\n",
        "\"\"\"Code Here\n",
        "將結果繪出\n",
        "\"\"\"\n",
        "\n",
        "color_bar = [\"r\", \"g\", \"b\", \"y\", \"m\", \"k\"]\n",
        "\n",
        "plt.figure(figsize=(8,6))\n",
        "for i, cond in enumerate(results.keys()):\n",
        "    plt.plot(range(len(results[cond]['train-loss'])),results[cond]['train-loss'], '-', label=cond, color=color_bar[i])\n",
        "    plt.plot(range(len(results[cond]['valid-loss'])),results[cond]['valid-loss'], '--', label=cond, color=color_bar[i])\n",
        "plt.title(\"Loss\")\n",
        "# plt.ylim([0, 5])\n",
        "plt.legend()\n",
        "plt.show()\n",
        "\n",
        "plt.figure(figsize=(8,6))\n",
        "for i, cond in enumerate(results.keys()):\n",
        "    plt.plot(range(len(results[cond]['train-acc'])),results[cond]['train-acc'], '-', label=cond, color=color_bar[i])\n",
        "    plt.plot(range(len(results[cond]['valid-acc'])),results[cond]['valid-acc'], '--', label=cond, color=color_bar[i])\n",
        "plt.title(\"Accuracy\")\n",
        "plt.legend()\n",
        "plt.show()"
      ],
      "execution_count": 23,
      "outputs": [
        {
          "output_type": "display_data",
          "data": {
            "image/png": "[encoded data removed]",
            "text/plain": [
              "<Figure size 576x432 with 1 Axes>"
            ]
          },
          "metadata": {
            "tags": []
          }
        },
        {
          "output_type": "display_data",
          "data": {
            "image/png": "[encoded data removed]",
            "text/plain": [
              "<Figure size 576x432 with 1 Axes>"
            ]
          },
          "metadata": {
            "tags": []
          }
        }
      ]
    }
  ]
}