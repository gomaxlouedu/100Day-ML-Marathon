{
 "cells": [
  {
   "cell_type": "markdown",
   "metadata": {},
   "source": [
    "## Work\n",
    "1. 請將 Epoch 加到 500 個，並觀察 learning curve 的走勢\n",
    "2. 請將 Optimizer 換成 SGD，並觀察 learning curve 的走勢"
   ]
  },
  {
   "cell_type": "code",
   "execution_count": 3,
   "metadata": {},
   "outputs": [],
   "source": [
    "import os\n",
    "import keras\n",
    "from keras.models import Sequential\n",
    "from keras.layers import Dense,Dropout, Flatten\n",
    "\n",
    "# 本作業可以不需使用 GPU, 將 GPU 設定為 \"無\" (若有 GPU 且想開啟，可設為 \"0\")\n",
    "os.environ[\"CUDA_VISIBLE_DEVICES\"] = \"\""
   ]
  },
  {
   "cell_type": "code",
   "execution_count": 44,
   "metadata": {},
   "outputs": [],
   "source": [
    "\n",
    "'''\n",
    "(x_train, y_train), (x_test,y_test) = cifar10.load_data()\n",
    "上面一行，等同下面三行\n",
    "train, test = keras.datasets.cifar10.load_data()\n",
    "x_train, y_train = train\n",
    "x_test, y_test = test\n",
    "'''\n",
    "\n",
    "# 從 Keras 的內建功能中，取得 train 與 test 資料集\n",
    "train, test = keras.datasets.cifar10.load_data()"
   ]
  },
  {
   "cell_type": "code",
   "execution_count": 12,
   "metadata": {},
   "outputs": [],
   "source": [
    "# 將 X 與 Y 獨立放進變數\n",
    "x_train, y_train = train\n",
    "x_test, y_test = test\n",
    "# 資料前處理 - 標準化\n",
    "x_train = x_train / 255.\n",
    "x_test = x_test / 255.\n",
    "\n",
    "# 將資料從圖形 (RGB) 轉為向量 (Single Vector)\n",
    "x_train = x_train.reshape((len(x_train), -1))\n",
    "x_test = x_test.reshape((len(x_test), -1))\n",
    "\n",
    "# 將目標轉為 one-hot encoding\n",
    "y_train = keras.utils.to_categorical(y_train, num_classes=10)\n",
    "y_test = keras.utils.to_categorical(y_test, num_classes=10)"
   ]
  },
  {
   "cell_type": "code",
   "execution_count": 32,
   "metadata": {},
   "outputs": [],
   "source": [
    "def build_mlp():\n",
    "    \"\"\"Code Here\n",
    "    建立你的神經網路\n",
    "    \"\"\"\n",
    "    model = Sequential()\n",
    "    model.add(Dense(512,\n",
    "                   input_dim=x_train.shape[-1],\n",
    "                   activation='relu'))\n",
    "    model.add(Dense(256, activation='relu'))\n",
    "    model.add(Dense(128, activation='relu'))\n",
    "    model.add(Dense(10, activation='softmax'))    \n",
    "    \n",
    "    return model\n",
    "model = build_mlp()"
   ]
  },
  {
   "cell_type": "code",
   "execution_count": 28,
   "metadata": {},
   "outputs": [],
   "source": [
    "# 建立一個有三層隱藏層之神經網路\n",
    "def build_mlp2():\n",
    "    input_layer = keras.layers.Input([x_train.shape[-1]])\n",
    "    x = keras.layers.Dense(units=512, activation=\"relu\")(input_layer)\n",
    "    x = keras.layers.Dense(units=256, activation=\"relu\")(x)\n",
    "    x = keras.layers.Dense(units=128, activation=\"relu\")(x)\n",
    "    out = keras.layers.Dense(units=10, activation=\"softmax\")(x)\n",
    "    \n",
    "    model = keras.models.Model(inputs=[input_layer], outputs=[out])\n",
    "    return model\n",
    "model = build_mlp2()"
   ]
  },
  {
   "cell_type": "code",
   "execution_count": 33,
   "metadata": {},
   "outputs": [],
   "source": [
    "\"\"\"\n",
    "Compile 模型\n",
    "\"\"\"\n",
    "opt = keras.optimizers.adam(lr=0.001)\n",
    "model.compile(optimizer='sgd', loss='categorical_crossentropy', metrics=['accuracy'])"
   ]
  },
  {
   "cell_type": "code",
   "execution_count": 42,
   "metadata": {
    "scrolled": true
   },
   "outputs": [
    {
     "name": "stdout",
     "output_type": "stream",
     "text": [
      "Train on 45000 samples, validate on 5000 samples\n",
      "Epoch 1/20\n",
      "45000/45000 [==============================] - 6s 142us/step - loss: 1.4603 - acc: 0.4886 - val_loss: 1.4874 - val_acc: 0.4854\n",
      "Epoch 2/20\n",
      "45000/45000 [==============================] - 6s 133us/step - loss: 1.4544 - acc: 0.4914 - val_loss: 1.5141 - val_acc: 0.4714\n",
      "Epoch 3/20\n",
      "45000/45000 [==============================] - 7s 166us/step - loss: 1.4529 - acc: 0.4912 - val_loss: 1.4774 - val_acc: 0.4826\n",
      "Epoch 4/20\n",
      "45000/45000 [==============================] - 7s 163us/step - loss: 1.4432 - acc: 0.4937 - val_loss: 1.4922 - val_acc: 0.4744\n",
      "Epoch 5/20\n",
      "45000/45000 [==============================] - 8s 180us/step - loss: 1.4436 - acc: 0.4946 - val_loss: 1.5094 - val_acc: 0.4736\n",
      "Epoch 6/20\n",
      "45000/45000 [==============================] - 8s 171us/step - loss: 1.4485 - acc: 0.4900 - val_loss: 1.5026 - val_acc: 0.4766\n",
      "Epoch 7/20\n",
      "45000/45000 [==============================] - 9s 203us/step - loss: 1.4342 - acc: 0.4988 - val_loss: 1.5347 - val_acc: 0.4492\n",
      "Epoch 8/20\n",
      "45000/45000 [==============================] - 9s 194us/step - loss: 1.4287 - acc: 0.4969 - val_loss: 1.4615 - val_acc: 0.4902\n",
      "Epoch 9/20\n",
      "45000/45000 [==============================] - 9s 206us/step - loss: 1.4215 - acc: 0.5012 - val_loss: 1.4819 - val_acc: 0.4806\n",
      "Epoch 10/20\n",
      "45000/45000 [==============================] - 9s 209us/step - loss: 1.4189 - acc: 0.5051 - val_loss: 1.4699 - val_acc: 0.4822\n",
      "Epoch 11/20\n",
      "45000/45000 [==============================] - 7s 164us/step - loss: 1.4138 - acc: 0.5047 - val_loss: 1.4677 - val_acc: 0.4860\n",
      "Epoch 12/20\n",
      "45000/45000 [==============================] - 8s 184us/step - loss: 1.4047 - acc: 0.5086 - val_loss: 1.4862 - val_acc: 0.4802\n",
      "Epoch 13/20\n",
      "45000/45000 [==============================] - 7s 162us/step - loss: 1.4073 - acc: 0.5063 - val_loss: 1.4587 - val_acc: 0.4838\n",
      "Epoch 14/20\n",
      "45000/45000 [==============================] - 8s 176us/step - loss: 1.4019 - acc: 0.5092 - val_loss: 1.4486 - val_acc: 0.4894\n",
      "Epoch 15/20\n",
      "45000/45000 [==============================] - 6s 142us/step - loss: 1.3976 - acc: 0.5110 - val_loss: 1.4587 - val_acc: 0.4858\n",
      "Epoch 16/20\n",
      "45000/45000 [==============================] - 6s 143us/step - loss: 1.3981 - acc: 0.5091 - val_loss: 1.4653 - val_acc: 0.4840\n",
      "Epoch 17/20\n",
      "45000/45000 [==============================] - 7s 148us/step - loss: 1.3853 - acc: 0.5148 - val_loss: 1.4330 - val_acc: 0.4928\n",
      "Epoch 18/20\n",
      "45000/45000 [==============================] - 7s 151us/step - loss: 1.3876 - acc: 0.5128 - val_loss: 1.4492 - val_acc: 0.4880\n",
      "Epoch 19/20\n",
      "45000/45000 [==============================] - 7s 160us/step - loss: 1.3733 - acc: 0.5173 - val_loss: 1.4197 - val_acc: 0.4998\n",
      "Epoch 20/20\n",
      "45000/45000 [==============================] - 7s 149us/step - loss: 1.3755 - acc: 0.5171 - val_loss: 1.4187 - val_acc: 0.5012\n"
     ]
    },
    {
     "data": {
      "text/plain": [
       "<keras.callbacks.History at 0x1bcf861ea20>"
      ]
     },
     "execution_count": 42,
     "metadata": {},
     "output_type": "execute_result"
    }
   ],
   "source": [
    "\"\"\"\n",
    "設定要訓練的 Epoch 數\n",
    "\"\"\"\n",
    "model.fit(x_train, y_train, \n",
    "          epochs= 10, \n",
    "          batch_size=256, \n",
    "          validation_split= 0.1\n",
    "#           validation_data=(x_test, y_test), \n",
    "          shuffle=True)"
   ]
  },
  {
   "cell_type": "code",
   "execution_count": 39,
   "metadata": {},
   "outputs": [
    {
     "data": {
      "image/png": "[encoded data removed]",
      "text/plain": [
       "<Figure size 432x288 with 1 Axes>"
      ]
     },
     "metadata": {
      "needs_background": "light"
     },
     "output_type": "display_data"
    },
    {
     "data": {
      "image/png": "[encoded data removed]",
      "text/plain": [
       "<Figure size 432x288 with 1 Axes>"
      ]
     },
     "metadata": {
      "needs_background": "light"
     },
     "output_type": "display_data"
    },
    {
     "name": "stdout",
     "output_type": "stream",
     "text": [
      "0.43100000001907346 0.4054\n"
     ]
    }
   ],
   "source": [
    "import matplotlib.pyplot as plt\n",
    "%matplotlib inline\n",
    "# 以視覺畫方式檢視訓練過程\n",
    "\n",
    "train_loss = model.history.history[\"loss\"]\n",
    "valid_loss = model.history.history[\"val_loss\"]\n",
    "\n",
    "train_acc = model.history.history[\"acc\"]\n",
    "valid_acc = model.history.history[\"val_acc\"]\n",
    "\n",
    "plt.plot(range(len(train_loss)), train_loss, label=\"train loss\")\n",
    "plt.plot(range(len(valid_loss)), valid_loss, label=\"valid loss\")\n",
    "plt.legend()\n",
    "plt.title(\"Loss\")\n",
    "plt.show()\n",
    "\n",
    "plt.plot(range(len(train_acc)), train_acc, label=\"train accuracy\")\n",
    "plt.plot(range(len(valid_acc)), valid_acc, label=\"valid accuracy\")\n",
    "plt.legend()\n",
    "plt.title(\"Accuracy\")\n",
    "plt.show()\n",
    "\n",
    "print(train_acc[-1], valid_acc[-1])"
   ]
  },
  {
   "cell_type": "code",
   "execution_count": null,
   "metadata": {},
   "outputs": [],
   "source": []
  }
 ],
 "metadata": {
  "kernelspec": {
   "display_name": "Python 3",
   "language": "python",
   "name": "python3"
  },
  "language_info": {
   "codemirror_mode": {
    "name": "ipython",
    "version": 3
   },
   "file_extension": ".py",
   "mimetype": "text/x-python",
   "name": "python",
   "nbconvert_exporter": "python",
   "pygments_lexer": "ipython3",
   "version": "3.6.9"
  }
 },
 "nbformat": 4,
 "nbformat_minor": 2
}
