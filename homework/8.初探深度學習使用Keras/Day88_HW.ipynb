{
  "nbformat": 4,
  "nbformat_minor": 0,
  "metadata": {
    "kernelspec": {
      "name": "python3",
      "display_name": "Python 3"
    },
    "language_info": {
      "codemirror_mode": {
        "name": "ipython",
        "version": 3
      },
      "file_extension": ".py",
      "mimetype": "text/x-python",
      "name": "python",
      "nbconvert_exporter": "python",
      "pygments_lexer": "ipython3",
      "version": "3.6.5"
    },
    "colab": {
      "name": "Day88_HW.ipynb",
      "provenance": []
    },
    "accelerator": "GPU"
  },
  "cells": [
    {
      "cell_type": "markdown",
      "metadata": {
        "id": "B-pARB5H2zt_",
        "colab_type": "text"
      },
      "source": [
        "## Work\n",
        "1. 請嘗試寫一個 callback 用來記錄各類別在訓練過程中，對驗證集的 True Positive 與 True Negative"
      ]
    },
    {
      "cell_type": "code",
      "metadata": {
        "id": "jE_hVjlX2zuC",
        "colab_type": "code",
        "colab": {
          "base_uri": "https://localhost:8080/",
          "height": 79
        },
        "outputId": "97229317-157c-47aa-8054-4ad8657b223c"
      },
      "source": [
        "import os\n",
        "import keras\n",
        "\n",
        "# Disable GPU\n",
        "# os.environ[\"CUDA_VISIBLE_DEVICES\"] = \"\""
      ],
      "execution_count": 1,
      "outputs": [
        {
          "output_type": "stream",
          "text": [
            "Using TensorFlow backend.\n"
          ],
          "name": "stderr"
        },
        {
          "output_type": "display_data",
          "data": {
            "text/html": [
              "<p style=\"color: red;\">\n",
              "The default version of TensorFlow in Colab will soon switch to TensorFlow 2.x.<br>\n",
              "We recommend you <a href=\"https://www.tensorflow.org/guide/migrate\" target=\"_blank\">upgrade</a> now \n",
              "or ensure your notebook will continue to use TensorFlow 1.x via the <code>%tensorflow_version 1.x</code> magic:\n",
              "<a href=\"https://colab.research.google.com/notebooks/tensorflow_version.ipynb\" target=\"_blank\">more info</a>.</p>\n"
            ],
            "text/plain": [
              "<IPython.core.display.HTML object>"
            ]
          },
          "metadata": {
            "tags": []
          }
        }
      ]
    },
    {
      "cell_type": "code",
      "metadata": {
        "id": "QDL3TcRn2zuG",
        "colab_type": "code",
        "colab": {
          "base_uri": "https://localhost:8080/",
          "height": 50
        },
        "outputId": "dec87908-a2d6-49a4-8ccd-6c6d0a590d01"
      },
      "source": [
        "train, test = keras.datasets.cifar10.load_data()"
      ],
      "execution_count": 2,
      "outputs": [
        {
          "output_type": "stream",
          "text": [
            "Downloading data from https://www.cs.toronto.edu/~kriz/cifar-10-python.tar.gz\n",
            "170500096/170498071 [==============================] - 11s 0us/step\n"
          ],
          "name": "stdout"
        }
      ]
    },
    {
      "cell_type": "code",
      "metadata": {
        "id": "316hFOx42zuK",
        "colab_type": "code",
        "colab": {}
      },
      "source": [
        "## 資料前處理\n",
        "def preproc_x(x, flatten=True):\n",
        "    x = x / 255.\n",
        "    if flatten:\n",
        "        x = x.reshape((len(x), -1))\n",
        "    return x\n",
        "\n",
        "def preproc_y(y, num_classes=10):\n",
        "    if y.shape[-1] == 1:\n",
        "        y = keras.utils.to_categorical(y, num_classes)\n",
        "    return y    "
      ],
      "execution_count": 0,
      "outputs": []
    },
    {
      "cell_type": "code",
      "metadata": {
        "id": "AC1gV8rG2zuM",
        "colab_type": "code",
        "colab": {}
      },
      "source": [
        "x_train, y_train = train\n",
        "x_test, y_test = test\n",
        "\n",
        "# Preproc the inputs\n",
        "x_train = preproc_x(x_train)\n",
        "x_test = preproc_x(x_test)\n",
        "\n",
        "# Preprc the outputs\n",
        "y_train = preproc_y(y_train)\n",
        "y_test = preproc_y(y_test)"
      ],
      "execution_count": 0,
      "outputs": []
    },
    {
      "cell_type": "code",
      "metadata": {
        "id": "udBsI9bm2zuO",
        "colab_type": "code",
        "colab": {}
      },
      "source": [
        "from keras.layers import BatchNormalization, Input, Dense\n",
        "def build_mlp(input_shape, output_units=10, num_neurons=[256, 256, 256]):\n",
        "    \"\"\"Code Here\n",
        "    建立你的神經網路\n",
        "    \"\"\"\n",
        "    input_layer = Input(input_shape)\n",
        "    for i, n_units in enumerate(num_neurons):\n",
        "        if i == 0:\n",
        "            x = Dense(n_units, activation='relu', name='hidden_layer'+str(i+1))(input_layer)\n",
        "        else:\n",
        "            x = Dense(n_units, activation='relu', name='hidden_layer'+str(i+1))(x)\n",
        "    \n",
        "    output = Dense(output_units, activation='softmax', name='output')(x)\n",
        "    model = keras.models.Model(inputs=[input_layer], outputs=[output])\n",
        "\n",
        "    return model"
      ],
      "execution_count": 0,
      "outputs": []
    },
    {
      "cell_type": "code",
      "metadata": {
        "id": "sHQdV8aD2zuR",
        "colab_type": "code",
        "colab": {}
      },
      "source": [
        "## 超參數設定\n",
        "LEARNING_RATE = 1e-3\n",
        "EPOCHS = 25\n",
        "BATCH_SIZE = 1024\n",
        "MOMENTUM = 0.95"
      ],
      "execution_count": 0,
      "outputs": []
    },
    {
      "cell_type": "code",
      "metadata": {
        "id": "hOIBOiLt2zuT",
        "colab_type": "code",
        "colab": {}
      },
      "source": [
        "# 載入 Callbacks\n",
        "from keras.callbacks import Callback\n",
        "from sklearn.metrics import f1_score, recall_score, precision_score\n",
        "\n",
        "# Record_fp_tp\n",
        "class Record_tp_tn(Callback):\n",
        "    \"\"\"Code Here\n",
        "    撰寫一個紀錄 ture positive 與 true negative 數量的 callbacks    \n",
        "    \"\"\"\n",
        "\n",
        "    def on_train_begin(self, epoch, logs={}):\n",
        "        logs = logs or {}\n",
        "        record_items = [\"val_tp\", \"val_tn\", \"val_f1sc\"]\n",
        "        for i in record_items:\n",
        "            if i not in self.params['metrics']:\n",
        "                self.params['metrics'].append(i)\n",
        "\n",
        "    def on_epoch_end(self, epoch, logs = {}, thres=0.5):\n",
        "        logs = logs or {}\n",
        "        y_true = self.validation_data[1].argmax(axis = 1)\n",
        "        y_pred = self.model.predict(self.validation_data[0])\n",
        "        y_pred = (y_pred[:, 1] >= thres) * 1\n",
        "        \n",
        "        logs[\"val_f1sc\"] = f1_score(y_true = y_true, y_pred = y_pred, average=\"weighted\")\n",
        "\n",
        "        logs[\"val_tp\"] = precision_score(y_true = y_true, y_pred = y_pred, average=\"weighted\")\n",
        "        logs[\"val_tn\"] = recall_score(y_true = y_true, y_pred = y_pred, average=\"weighted\")\n",
        "\n",
        "rec_tptn = Record_tp_tn()"
      ],
      "execution_count": 0,
      "outputs": []
    },
    {
      "cell_type": "code",
      "metadata": {
        "scrolled": true,
        "id": "af9yvM4L2zuV",
        "colab_type": "code",
        "colab": {
          "base_uri": "https://localhost:8080/",
          "height": 405
        },
        "outputId": "a17a2669-18d0-467c-bde4-fcbbdf8e6d18"
      },
      "source": [
        "model = build_mlp(input_shape=x_train.shape[1:])\n",
        "model.summary()\n",
        "optimizer = keras.optimizers.SGD(lr=LEARNING_RATE, nesterov=True, momentum=MOMENTUM)\n",
        "model.compile(loss=\"categorical_crossentropy\", metrics=[\"accuracy\"], optimizer=optimizer)\n",
        "\n",
        "\"\"\"Code Here\n",
        "將 callbacks 放入模型訓練流程中\n",
        "\"\"\"\n",
        "model.fit(x_train, y_train,\n",
        "          epochs=EPOCHS,\n",
        "          batch_size = BATCH_SIZE,\n",
        "          validation_data = (x_test, y_test),\n",
        "          shuffle=True, verbose=0,\n",
        "          callbacks=[rec_tptn]\n",
        "          )\n",
        "\n",
        "# Collect results\n",
        "train_loss = model.history.history[\"loss\"]\n",
        "valid_loss = model.history.history[\"val_loss\"]\n",
        "train_acc = model.history.history[\"acc\"]\n",
        "valid_acc = model.history.history[\"val_acc\"]\n",
        "\n",
        "\"\"\"Code Here\n",
        "將 tp/tn 從訓練完的模型中取出\n",
        "\"\"\"\n",
        "valid_f1sc = model.history.history['val_f1sc']\n",
        "valid_tp = model.history.history['val_tp']\n",
        "valid_tn = model.history.history['val_tn']"
      ],
      "execution_count": 33,
      "outputs": [
        {
          "output_type": "stream",
          "text": [
            "Model: \"model_9\"\n",
            "_________________________________________________________________\n",
            "Layer (type)                 Output Shape              Param #   \n",
            "=================================================================\n",
            "input_11 (InputLayer)        (None, 3072)              0         \n",
            "_________________________________________________________________\n",
            "hidden_layer1 (Dense)        (None, 256)               786688    \n",
            "_________________________________________________________________\n",
            "hidden_layer2 (Dense)        (None, 256)               65792     \n",
            "_________________________________________________________________\n",
            "hidden_layer3 (Dense)        (None, 256)               65792     \n",
            "_________________________________________________________________\n",
            "output (Dense)               (None, 10)                2570      \n",
            "=================================================================\n",
            "Total params: 920,842\n",
            "Trainable params: 920,842\n",
            "Non-trainable params: 0\n",
            "_________________________________________________________________\n"
          ],
          "name": "stdout"
        },
        {
          "output_type": "stream",
          "text": [
            "/usr/local/lib/python3.6/dist-packages/sklearn/metrics/classification.py:1437: UndefinedMetricWarning: F-score is ill-defined and being set to 0.0 in labels with no predicted samples.\n",
            "  'precision', 'predicted', average, warn_for)\n",
            "/usr/local/lib/python3.6/dist-packages/sklearn/metrics/classification.py:1437: UndefinedMetricWarning: Precision is ill-defined and being set to 0.0 in labels with no predicted samples.\n",
            "  'precision', 'predicted', average, warn_for)\n"
          ],
          "name": "stderr"
        }
      ]
    },
    {
      "cell_type": "code",
      "metadata": {
        "id": "ZsoDZA1Z2zuX",
        "colab_type": "code",
        "colab": {
          "base_uri": "https://localhost:8080/",
          "height": 1000
        },
        "outputId": "1888bf5e-4d5b-47d2-c8e9-c8bfd5755f62"
      },
      "source": [
        "import matplotlib.pyplot as plt\n",
        "%matplotlib inline\n",
        "\n",
        "plt.plot(range(len(train_loss)), train_loss, label=\"train loss\")\n",
        "plt.plot(range(len(valid_loss)), valid_loss, label=\"valid loss\")\n",
        "plt.legend()\n",
        "plt.title(\"Loss\")\n",
        "plt.show()\n",
        "\n",
        "plt.plot(range(len(train_acc)), train_acc, label=\"train accuracy\")\n",
        "plt.plot(range(len(valid_acc)), valid_acc, label=\"valid accuracy\")\n",
        "plt.legend()\n",
        "plt.title(\"Accuracy\")\n",
        "plt.show()\n",
        "\n",
        "plt.plot(range(len(valid_tp)), valid_tp, label=\"valid tp\", color=\"navy\")\n",
        "plt.plot(range(len(valid_tn)), valid_tn, label=\"valid tn\", color=\"red\")\n",
        "plt.legend()\n",
        "plt.title(\"True positives and True Negatives\")\n",
        "plt.show()\n",
        "\n",
        "plt.plot(range(len(valid_f1sc)), valid_f1sc, label=\"valid f1-score\")\n",
        "plt.legend()\n",
        "plt.title(\"F1-score\")\n",
        "plt.show()"
      ],
      "execution_count": 38,
      "outputs": [
        {
          "output_type": "display_data",
          "data": {
            "image/png": "[encoded data removed]",
            "text/plain": [
              "<Figure size 432x288 with 1 Axes>"
            ]
          },
          "metadata": {
            "tags": []
          }
        },
        {
          "output_type": "display_data",
          "data": {
            "image/png": "[encoded data removed]",
            "text/plain": [
              "<Figure size 432x288 with 1 Axes>"
            ]
          },
          "metadata": {
            "tags": []
          }
        },
        {
          "output_type": "display_data",
          "data": {
            "image/png": "[encoded data removed]",
            "text/plain": [
              "<Figure size 432x288 with 1 Axes>"
            ]
          },
          "metadata": {
            "tags": []
          }
        },
        {
          "output_type": "display_data",
          "data": {
            "image/png": "[encoded data removed]",
            "text/plain": [
              "<Figure size 432x288 with 1 Axes>"
            ]
          },
          "metadata": {
            "tags": []
          }
        }
      ]
    },
    {
      "cell_type": "code",
      "metadata": {
        "id": "bKgd5ieJBtwN",
        "colab_type": "code",
        "colab": {}
      },
      "source": [
        ""
      ],
      "execution_count": 0,
      "outputs": []
    }
  ]
}