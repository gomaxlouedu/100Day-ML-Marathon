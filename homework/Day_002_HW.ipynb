{
 "cells": [
  {
   "cell_type": "markdown",
   "metadata": {},
   "source": [
    "## [作業目標]\n",
    "了解機器學習適合應用的領域與範疇。"
   ]
  },
  {
   "cell_type": "markdown",
   "metadata": {},
   "source": [
    "## [作業重點]\n",
    "透過瞭解機器學習的運作方式，找出非常適用機器學習應用的領域及其原因"
   ]
  },
  {
   "cell_type": "markdown",
   "metadata": {},
   "source": [
    "## 作業\n",
    "請找出一個你認為機器學習可以發光發熱的領域並闡述原因? "
   ]
  },
  {
   "cell_type": "markdown",
   "metadata": {},
   "source": [
    "# 法律領域，依幾個方面來說明\n",
    "1. 訴狀產生器：存證信函的行情，約6000左右(訴狀更高)，若有AI的輔助，能夠大幅降低當事人的成本，並且能夠更準確的使用法律用語，亦可大幅降低門檻。律師，檢察官在撰寫相關書狀時(起訴狀，簽辯狀)，需先查詢及整理大量的相關文件(判決，判例，釋字，決議，法條等等)，根據國外研調結果，查詢及整理約佔了70%的時間，並且也僅能查詢一小部份，並無法達到善盡查詢義務。透過AI的查詢及分析，整理出適用的內容，並找出可能的爭點，最後產生相關書狀\n",
    "2. 智慧合約：一家企業有各式各樣的合約，在面對變化快速的環境，合約審視的速度及準度，變得尤其重要，AI能夠更快速及準確的去發現合約的缺漏或不利之處。於2014年時, Lawgeex 在NDA比賽，完敗了人類(20名律師團隊)\n",
    "3. 教育訓練：每個司法從業人員，都必須從第一次開始(接案，開庭等等)，在之前若能透過AI模擬訓練的環境，與之對抗訴訟過程，或者提供訴訟策略，將可大幅改善第一次的生澀，當事人亦可減少當白老鼠的機會\n",
    "4. 勝率預測：在訴訟開始前，能有一個勝率預測之參考之依據，相信能夠降低大量社會資源之耗費(司法資源，當事人等)\n",
    "5. 律師配對：當事人並無法精準得知委任律師們的背景及戰場經驗，而律師的時間有限，也不可能每個領域都專精，最後可能導致所託非人，除了損失了時間與金錢，最嚴重的是失去了審級利益。期望能經過分析，配對相對適當的律師人選"
   ]
  },
  {
   "cell_type": "code",
   "execution_count": null,
   "metadata": {},
   "outputs": [],
   "source": []
  }
 ],
 "metadata": {
  "kernelspec": {
   "display_name": "Python 3",
   "language": "python",
   "name": "python3"
  },
  "language_info": {
   "codemirror_mode": {
    "name": "ipython",
    "version": 3
   },
   "file_extension": ".py",
   "mimetype": "text/x-python",
   "name": "python",
   "nbconvert_exporter": "python",
   "pygments_lexer": "ipython3",
   "version": "3.6.9"
  }
 },
 "nbformat": 4,
 "nbformat_minor": 2
}
