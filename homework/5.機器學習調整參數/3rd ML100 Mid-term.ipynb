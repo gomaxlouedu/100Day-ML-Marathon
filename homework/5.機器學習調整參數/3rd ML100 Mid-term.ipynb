{
 "cells": [
  {
   "cell_type": "markdown",
   "metadata": {},
   "source": [
    "# Load Data"
   ]
  },
  {
   "cell_type": "code",
   "execution_count": 1,
   "metadata": {},
   "outputs": [],
   "source": [
    "import numpy as np\n",
    "import pandas as pd\n",
    "import os\n",
    "import matplotlib.pyplot as plt\n",
    "import seaborn as sns \n",
    "%matplotlib inline\n",
    " \n",
    "import warnings\n",
    "warnings.filterwarnings(\"ignore\")"
   ]
  },
  {
   "cell_type": "code",
   "execution_count": 2,
   "metadata": {},
   "outputs": [
    {
     "name": "stdout",
     "output_type": "stream",
     "text": [
      "['enron61702insiderpay.pdf', 'sample_submission.csv', 'test_features.csv', 'train_data.csv']\n"
     ]
    }
   ],
   "source": [
    "print(os.listdir(\"0.data/3rd-ml100marathon-midterm/\"))"
   ]
  },
  {
   "cell_type": "code",
   "execution_count": 2,
   "metadata": {},
   "outputs": [
    {
     "name": "stdout",
     "output_type": "stream",
     "text": [
      "train shape: (113, 22)\n",
      "test shape: (33, 21)\n"
     ]
    }
   ],
   "source": [
    "df_train = pd.read_csv('0.data/3rd-ml100marathon-midterm/train_data.csv')\n",
    "df_test = pd.read_csv('0.data/3rd-ml100marathon-midterm/test_features.csv')\n",
    "id = df_test['name']\n",
    "print('train shape:', df_train.shape)\n",
    "print('test shape:', df_test.shape)"
   ]
  },
  {
   "cell_type": "markdown",
   "metadata": {},
   "source": [
    "# EDA"
   ]
  },
  {
   "cell_type": "code",
   "execution_count": 18,
   "metadata": {
    "collapsed": true
   },
   "outputs": [
    {
     "data": {
      "text/html": [
       "<div>\n",
       "<style scoped>\n",
       "    .dataframe tbody tr th:only-of-type {\n",
       "        vertical-align: middle;\n",
       "    }\n",
       "\n",
       "    .dataframe tbody tr th {\n",
       "        vertical-align: top;\n",
       "    }\n",
       "\n",
       "    .dataframe thead th {\n",
       "        text-align: right;\n",
       "    }\n",
       "</style>\n",
       "<table border=\"1\" class=\"dataframe\">\n",
       "  <thead>\n",
       "    <tr style=\"text-align: right;\">\n",
       "      <th></th>\n",
       "      <th>name</th>\n",
       "      <th>bonus</th>\n",
       "      <th>deferral_payments</th>\n",
       "      <th>deferred_income</th>\n",
       "      <th>director_fees</th>\n",
       "      <th>email_address</th>\n",
       "      <th>exercised_stock_options</th>\n",
       "      <th>expenses</th>\n",
       "      <th>from_messages</th>\n",
       "      <th>from_poi_to_this_person</th>\n",
       "      <th>...</th>\n",
       "      <th>long_term_incentive</th>\n",
       "      <th>other</th>\n",
       "      <th>poi</th>\n",
       "      <th>restricted_stock</th>\n",
       "      <th>restricted_stock_deferred</th>\n",
       "      <th>salary</th>\n",
       "      <th>shared_receipt_with_poi</th>\n",
       "      <th>to_messages</th>\n",
       "      <th>total_payments</th>\n",
       "      <th>total_stock_value</th>\n",
       "    </tr>\n",
       "  </thead>\n",
       "  <tbody>\n",
       "    <tr>\n",
       "      <th>0</th>\n",
       "      <td>RICE KENNETH D</td>\n",
       "      <td>1750000.0</td>\n",
       "      <td>NaN</td>\n",
       "      <td>-3504386.0</td>\n",
       "      <td>NaN</td>\n",
       "      <td>ken.rice@enron.com</td>\n",
       "      <td>19794175.0</td>\n",
       "      <td>46950.0</td>\n",
       "      <td>18.0</td>\n",
       "      <td>42.0</td>\n",
       "      <td>...</td>\n",
       "      <td>1617011.0</td>\n",
       "      <td>174839.0</td>\n",
       "      <td>True</td>\n",
       "      <td>2748364.0</td>\n",
       "      <td>NaN</td>\n",
       "      <td>420636.0</td>\n",
       "      <td>864.0</td>\n",
       "      <td>905.0</td>\n",
       "      <td>505050.0</td>\n",
       "      <td>22542539.0</td>\n",
       "    </tr>\n",
       "    <tr>\n",
       "      <th>1</th>\n",
       "      <td>SKILLING JEFFREY K</td>\n",
       "      <td>5600000.0</td>\n",
       "      <td>NaN</td>\n",
       "      <td>NaN</td>\n",
       "      <td>NaN</td>\n",
       "      <td>jeff.skilling@enron.com</td>\n",
       "      <td>19250000.0</td>\n",
       "      <td>29336.0</td>\n",
       "      <td>108.0</td>\n",
       "      <td>88.0</td>\n",
       "      <td>...</td>\n",
       "      <td>1920000.0</td>\n",
       "      <td>22122.0</td>\n",
       "      <td>True</td>\n",
       "      <td>6843672.0</td>\n",
       "      <td>NaN</td>\n",
       "      <td>1111258.0</td>\n",
       "      <td>2042.0</td>\n",
       "      <td>3627.0</td>\n",
       "      <td>8682716.0</td>\n",
       "      <td>26093672.0</td>\n",
       "    </tr>\n",
       "    <tr>\n",
       "      <th>2</th>\n",
       "      <td>SHELBY REX</td>\n",
       "      <td>200000.0</td>\n",
       "      <td>NaN</td>\n",
       "      <td>-4167.0</td>\n",
       "      <td>NaN</td>\n",
       "      <td>rex.shelby@enron.com</td>\n",
       "      <td>1624396.0</td>\n",
       "      <td>22884.0</td>\n",
       "      <td>39.0</td>\n",
       "      <td>13.0</td>\n",
       "      <td>...</td>\n",
       "      <td>NaN</td>\n",
       "      <td>1573324.0</td>\n",
       "      <td>True</td>\n",
       "      <td>869220.0</td>\n",
       "      <td>NaN</td>\n",
       "      <td>211844.0</td>\n",
       "      <td>91.0</td>\n",
       "      <td>225.0</td>\n",
       "      <td>2003885.0</td>\n",
       "      <td>2493616.0</td>\n",
       "    </tr>\n",
       "    <tr>\n",
       "      <th>3</th>\n",
       "      <td>KOPPER MICHAEL J</td>\n",
       "      <td>800000.0</td>\n",
       "      <td>NaN</td>\n",
       "      <td>NaN</td>\n",
       "      <td>NaN</td>\n",
       "      <td>michael.kopper@enron.com</td>\n",
       "      <td>NaN</td>\n",
       "      <td>118134.0</td>\n",
       "      <td>NaN</td>\n",
       "      <td>NaN</td>\n",
       "      <td>...</td>\n",
       "      <td>602671.0</td>\n",
       "      <td>907502.0</td>\n",
       "      <td>True</td>\n",
       "      <td>985032.0</td>\n",
       "      <td>NaN</td>\n",
       "      <td>224305.0</td>\n",
       "      <td>NaN</td>\n",
       "      <td>NaN</td>\n",
       "      <td>2652612.0</td>\n",
       "      <td>985032.0</td>\n",
       "    </tr>\n",
       "    <tr>\n",
       "      <th>4</th>\n",
       "      <td>CALGER CHRISTOPHER F</td>\n",
       "      <td>1250000.0</td>\n",
       "      <td>NaN</td>\n",
       "      <td>-262500.0</td>\n",
       "      <td>NaN</td>\n",
       "      <td>christopher.calger@enron.com</td>\n",
       "      <td>NaN</td>\n",
       "      <td>35818.0</td>\n",
       "      <td>144.0</td>\n",
       "      <td>199.0</td>\n",
       "      <td>...</td>\n",
       "      <td>375304.0</td>\n",
       "      <td>486.0</td>\n",
       "      <td>True</td>\n",
       "      <td>126027.0</td>\n",
       "      <td>NaN</td>\n",
       "      <td>240189.0</td>\n",
       "      <td>2188.0</td>\n",
       "      <td>2598.0</td>\n",
       "      <td>1639297.0</td>\n",
       "      <td>126027.0</td>\n",
       "    </tr>\n",
       "  </tbody>\n",
       "</table>\n",
       "<p>5 rows × 22 columns</p>\n",
       "</div>"
      ],
      "text/plain": [
       "                   name      bonus  deferral_payments  deferred_income  \\\n",
       "0        RICE KENNETH D  1750000.0                NaN       -3504386.0   \n",
       "1    SKILLING JEFFREY K  5600000.0                NaN              NaN   \n",
       "2            SHELBY REX   200000.0                NaN          -4167.0   \n",
       "3      KOPPER MICHAEL J   800000.0                NaN              NaN   \n",
       "4  CALGER CHRISTOPHER F  1250000.0                NaN        -262500.0   \n",
       "\n",
       "   director_fees                 email_address  exercised_stock_options  \\\n",
       "0            NaN            ken.rice@enron.com               19794175.0   \n",
       "1            NaN       jeff.skilling@enron.com               19250000.0   \n",
       "2            NaN          rex.shelby@enron.com                1624396.0   \n",
       "3            NaN      michael.kopper@enron.com                      NaN   \n",
       "4            NaN  christopher.calger@enron.com                      NaN   \n",
       "\n",
       "   expenses  from_messages  from_poi_to_this_person  ...  long_term_incentive  \\\n",
       "0   46950.0           18.0                     42.0  ...            1617011.0   \n",
       "1   29336.0          108.0                     88.0  ...            1920000.0   \n",
       "2   22884.0           39.0                     13.0  ...                  NaN   \n",
       "3  118134.0            NaN                      NaN  ...             602671.0   \n",
       "4   35818.0          144.0                    199.0  ...             375304.0   \n",
       "\n",
       "       other   poi  restricted_stock  restricted_stock_deferred     salary  \\\n",
       "0   174839.0  True         2748364.0                        NaN   420636.0   \n",
       "1    22122.0  True         6843672.0                        NaN  1111258.0   \n",
       "2  1573324.0  True          869220.0                        NaN   211844.0   \n",
       "3   907502.0  True          985032.0                        NaN   224305.0   \n",
       "4      486.0  True          126027.0                        NaN   240189.0   \n",
       "\n",
       "   shared_receipt_with_poi  to_messages  total_payments  total_stock_value  \n",
       "0                    864.0        905.0        505050.0         22542539.0  \n",
       "1                   2042.0       3627.0       8682716.0         26093672.0  \n",
       "2                     91.0        225.0       2003885.0          2493616.0  \n",
       "3                      NaN          NaN       2652612.0           985032.0  \n",
       "4                   2188.0       2598.0       1639297.0           126027.0  \n",
       "\n",
       "[5 rows x 22 columns]"
      ]
     },
     "execution_count": 18,
     "metadata": {},
     "output_type": "execute_result"
    }
   ],
   "source": [
    "df_train.head()"
   ]
  },
  {
   "cell_type": "code",
   "execution_count": 17,
   "metadata": {
    "collapsed": true
   },
   "outputs": [
    {
     "name": "stdout",
     "output_type": "stream",
     "text": [
      "<class 'pandas.core.frame.DataFrame'>\n",
      "RangeIndex: 113 entries, 0 to 112\n",
      "Data columns (total 22 columns):\n",
      "name                         113 non-null object\n",
      "bonus                        61 non-null float64\n",
      "deferral_payments            28 non-null float64\n",
      "deferred_income              34 non-null float64\n",
      "director_fees                13 non-null float64\n",
      "email_address                83 non-null object\n",
      "exercised_stock_options      81 non-null float64\n",
      "expenses                     73 non-null float64\n",
      "from_messages                65 non-null float64\n",
      "from_poi_to_this_person      65 non-null float64\n",
      "from_this_person_to_poi      65 non-null float64\n",
      "loan_advances                2 non-null float64\n",
      "long_term_incentive          49 non-null float64\n",
      "other                        69 non-null float64\n",
      "poi                          113 non-null bool\n",
      "restricted_stock             82 non-null float64\n",
      "restricted_stock_deferred    10 non-null float64\n",
      "salary                       73 non-null float64\n",
      "shared_receipt_with_poi      65 non-null float64\n",
      "to_messages                  65 non-null float64\n",
      "total_payments               96 non-null float64\n",
      "total_stock_value            98 non-null float64\n",
      "dtypes: bool(1), float64(19), object(2)\n",
      "memory usage: 18.8+ KB\n"
     ]
    }
   ],
   "source": [
    "df_train.info()"
   ]
  },
  {
   "cell_type": "code",
   "execution_count": 28,
   "metadata": {
    "collapsed": true
   },
   "outputs": [
    {
     "name": "stdout",
     "output_type": "stream",
     "text": [
      "<class 'pandas.core.frame.DataFrame'>\n",
      "RangeIndex: 33 entries, 0 to 32\n",
      "Data columns (total 21 columns):\n",
      "name                         33 non-null object\n",
      "bonus                        21 non-null float64\n",
      "deferral_payments            11 non-null float64\n",
      "deferred_income              15 non-null float64\n",
      "director_fees                4 non-null float64\n",
      "email_address                28 non-null object\n",
      "exercised_stock_options      21 non-null float64\n",
      "expenses                     22 non-null float64\n",
      "from_messages                21 non-null float64\n",
      "from_poi_to_this_person      21 non-null float64\n",
      "from_this_person_to_poi      21 non-null float64\n",
      "loan_advances                2 non-null float64\n",
      "long_term_incentive          17 non-null float64\n",
      "other                        24 non-null float64\n",
      "restricted_stock             28 non-null float64\n",
      "restricted_stock_deferred    8 non-null float64\n",
      "salary                       22 non-null float64\n",
      "shared_receipt_with_poi      21 non-null float64\n",
      "to_messages                  21 non-null float64\n",
      "total_payments               29 non-null float64\n",
      "total_stock_value            28 non-null float64\n",
      "dtypes: float64(19), object(2)\n",
      "memory usage: 5.5+ KB\n"
     ]
    }
   ],
   "source": [
    "df_test.info()"
   ]
  },
  {
   "cell_type": "code",
   "execution_count": 31,
   "metadata": {},
   "outputs": [
    {
     "data": {
      "text/plain": [
       "float64    19\n",
       "object      2\n",
       "bool        1\n",
       "dtype: int64"
      ]
     },
     "execution_count": 31,
     "metadata": {},
     "output_type": "execute_result"
    }
   ],
   "source": [
    "df_train.dtypes.value_counts()"
   ]
  },
  {
   "cell_type": "code",
   "execution_count": 30,
   "metadata": {
    "collapsed": true
   },
   "outputs": [
    {
     "data": {
      "image/png": "[encoded data removed]",
      "text/plain": [
       "<Figure size 1440x648 with 2 Axes>"
      ]
     },
     "metadata": {
      "needs_background": "light"
     },
     "output_type": "display_data"
    }
   ],
   "source": [
    "corr = df_train.corr()\n",
    "f, ax = plt.subplots(figsize=(20,9))\n",
    "sns.heatmap(corr, vmax =0.8, square=True, linewidths=0.05, cmap='rainbow', mask = corr < 0.3, annot=True, fmt='.1f')\n",
    "plt.show()"
   ]
  },
  {
   "cell_type": "code",
   "execution_count": 45,
   "metadata": {
    "scrolled": true
   },
   "outputs": [
    {
     "name": "stdout",
     "output_type": "stream",
     "text": [
      "Index(['loan_advances', 'poi', 'exercised_stock_options', 'total_stock_value',\n",
      "       'salary', 'total_payments'],\n",
      "      dtype='object')\n"
     ]
    }
   ],
   "source": [
    "k = 6\n",
    "cols = corr.nlargest(k, 'poi').index\n",
    "print(cols)"
   ]
  },
  {
   "cell_type": "code",
   "execution_count": 48,
   "metadata": {},
   "outputs": [
    {
     "data": {
      "text/plain": [
       "81525000.0    1\n",
       "400000.0      1\n",
       "Name: loan_advances, dtype: int64"
      ]
     },
     "execution_count": 48,
     "metadata": {},
     "output_type": "execute_result"
    }
   ],
   "source": [
    "df_train.loan_advances.value_counts()"
   ]
  },
  {
   "cell_type": "code",
   "execution_count": 131,
   "metadata": {
    "scrolled": false
   },
   "outputs": [
    {
     "data": {
      "text/html": [
       "<div>\n",
       "<style scoped>\n",
       "    .dataframe tbody tr th:only-of-type {\n",
       "        vertical-align: middle;\n",
       "    }\n",
       "\n",
       "    .dataframe tbody tr th {\n",
       "        vertical-align: top;\n",
       "    }\n",
       "\n",
       "    .dataframe thead th {\n",
       "        text-align: right;\n",
       "    }\n",
       "</style>\n",
       "<table border=\"1\" class=\"dataframe\">\n",
       "  <thead>\n",
       "    <tr style=\"text-align: right;\">\n",
       "      <th></th>\n",
       "      <th>bonus</th>\n",
       "      <th>deferral_payments</th>\n",
       "      <th>deferred_income</th>\n",
       "      <th>director_fees</th>\n",
       "      <th>exercised_stock_options</th>\n",
       "      <th>expenses</th>\n",
       "      <th>from_messages</th>\n",
       "      <th>from_poi_to_this_person</th>\n",
       "      <th>from_this_person_to_poi</th>\n",
       "      <th>loan_advances</th>\n",
       "      <th>long_term_incentive</th>\n",
       "      <th>other</th>\n",
       "      <th>restricted_stock</th>\n",
       "      <th>restricted_stock_deferred</th>\n",
       "      <th>salary</th>\n",
       "      <th>shared_receipt_with_poi</th>\n",
       "      <th>to_messages</th>\n",
       "      <th>total_payments</th>\n",
       "      <th>total_stock_value</th>\n",
       "    </tr>\n",
       "  </thead>\n",
       "  <tbody>\n",
       "    <tr>\n",
       "      <th>count</th>\n",
       "      <td>5.600000e+01</td>\n",
       "      <td>1.700000e+01</td>\n",
       "      <td>2.400000e+01</td>\n",
       "      <td>1.0</td>\n",
       "      <td>6.400000e+01</td>\n",
       "      <td>57.000000</td>\n",
       "      <td>56.000000</td>\n",
       "      <td>56.000000</td>\n",
       "      <td>56.000000</td>\n",
       "      <td>0.0</td>\n",
       "      <td>4.400000e+01</td>\n",
       "      <td>6.100000e+01</td>\n",
       "      <td>8.100000e+01</td>\n",
       "      <td>9.000000</td>\n",
       "      <td>6.400000e+01</td>\n",
       "      <td>56.000000</td>\n",
       "      <td>56.000000</td>\n",
       "      <td>6.900000e+01</td>\n",
       "      <td>8.100000e+01</td>\n",
       "    </tr>\n",
       "    <tr>\n",
       "      <th>mean</th>\n",
       "      <td>1.102408e+06</td>\n",
       "      <td>7.783555e+05</td>\n",
       "      <td>-6.190842e+05</td>\n",
       "      <td>108750.0</td>\n",
       "      <td>2.602773e+06</td>\n",
       "      <td>51770.596491</td>\n",
       "      <td>817.392857</td>\n",
       "      <td>71.946429</td>\n",
       "      <td>45.875000</td>\n",
       "      <td>NaN</td>\n",
       "      <td>6.608865e+05</td>\n",
       "      <td>2.726141e+05</td>\n",
       "      <td>1.128598e+06</td>\n",
       "      <td>-251438.888889</td>\n",
       "      <td>2.660549e+05</td>\n",
       "      <td>1206.678571</td>\n",
       "      <td>2336.428571</td>\n",
       "      <td>1.824704e+06</td>\n",
       "      <td>3.157172e+06</td>\n",
       "    </tr>\n",
       "    <tr>\n",
       "      <th>std</th>\n",
       "      <td>1.338009e+06</td>\n",
       "      <td>8.489520e+05</td>\n",
       "      <td>9.222139e+05</td>\n",
       "      <td>NaN</td>\n",
       "      <td>4.044925e+06</td>\n",
       "      <td>44409.929996</td>\n",
       "      <td>2219.082363</td>\n",
       "      <td>96.048931</td>\n",
       "      <td>94.570236</td>\n",
       "      <td>NaN</td>\n",
       "      <td>5.914695e+05</td>\n",
       "      <td>5.129647e+05</td>\n",
       "      <td>2.006182e+06</td>\n",
       "      <td>193754.455597</td>\n",
       "      <td>1.371347e+05</td>\n",
       "      <td>1195.104120</td>\n",
       "      <td>2949.069140</td>\n",
       "      <td>1.756582e+06</td>\n",
       "      <td>5.053621e+06</td>\n",
       "    </tr>\n",
       "    <tr>\n",
       "      <th>min</th>\n",
       "      <td>2.000000e+05</td>\n",
       "      <td>7.961000e+03</td>\n",
       "      <td>-3.504386e+06</td>\n",
       "      <td>108750.0</td>\n",
       "      <td>9.803000e+03</td>\n",
       "      <td>475.000000</td>\n",
       "      <td>12.000000</td>\n",
       "      <td>0.000000</td>\n",
       "      <td>0.000000</td>\n",
       "      <td>NaN</td>\n",
       "      <td>7.102300e+04</td>\n",
       "      <td>2.000000e+00</td>\n",
       "      <td>4.409300e+04</td>\n",
       "      <td>-560222.000000</td>\n",
       "      <td>4.770000e+02</td>\n",
       "      <td>10.000000</td>\n",
       "      <td>102.000000</td>\n",
       "      <td>4.750000e+02</td>\n",
       "      <td>8.564100e+04</td>\n",
       "    </tr>\n",
       "    <tr>\n",
       "      <th>25%</th>\n",
       "      <td>5.000000e+05</td>\n",
       "      <td>7.771600e+04</td>\n",
       "      <td>-7.008965e+05</td>\n",
       "      <td>108750.0</td>\n",
       "      <td>5.701288e+05</td>\n",
       "      <td>22344.000000</td>\n",
       "      <td>28.750000</td>\n",
       "      <td>11.750000</td>\n",
       "      <td>1.750000</td>\n",
       "      <td>NaN</td>\n",
       "      <td>2.750000e+05</td>\n",
       "      <td>1.191000e+03</td>\n",
       "      <td>2.640130e+05</td>\n",
       "      <td>-409554.000000</td>\n",
       "      <td>2.115560e+05</td>\n",
       "      <td>283.250000</td>\n",
       "      <td>557.750000</td>\n",
       "      <td>9.114530e+05</td>\n",
       "      <td>5.974610e+05</td>\n",
       "    </tr>\n",
       "    <tr>\n",
       "      <th>50%</th>\n",
       "      <td>7.500000e+05</td>\n",
       "      <td>6.495840e+05</td>\n",
       "      <td>-2.712500e+05</td>\n",
       "      <td>108750.0</td>\n",
       "      <td>1.176684e+06</td>\n",
       "      <td>43057.000000</td>\n",
       "      <td>54.000000</td>\n",
       "      <td>36.000000</td>\n",
       "      <td>9.500000</td>\n",
       "      <td>NaN</td>\n",
       "      <td>3.987310e+05</td>\n",
       "      <td>5.238200e+04</td>\n",
       "      <td>4.623840e+05</td>\n",
       "      <td>-153686.000000</td>\n",
       "      <td>2.545700e+05</td>\n",
       "      <td>721.500000</td>\n",
       "      <td>1211.000000</td>\n",
       "      <td>1.410464e+06</td>\n",
       "      <td>1.038185e+06</td>\n",
       "    </tr>\n",
       "    <tr>\n",
       "      <th>75%</th>\n",
       "      <td>1.025000e+06</td>\n",
       "      <td>1.130036e+06</td>\n",
       "      <td>-3.927075e+04</td>\n",
       "      <td>108750.0</td>\n",
       "      <td>2.702422e+06</td>\n",
       "      <td>59175.000000</td>\n",
       "      <td>221.250000</td>\n",
       "      <td>92.500000</td>\n",
       "      <td>40.500000</td>\n",
       "      <td>NaN</td>\n",
       "      <td>8.142118e+05</td>\n",
       "      <td>3.010260e+05</td>\n",
       "      <td>9.567750e+05</td>\n",
       "      <td>-94556.000000</td>\n",
       "      <td>2.885460e+05</td>\n",
       "      <td>2078.500000</td>\n",
       "      <td>2842.000000</td>\n",
       "      <td>2.101364e+06</td>\n",
       "      <td>3.101279e+06</td>\n",
       "    </tr>\n",
       "    <tr>\n",
       "      <th>max</th>\n",
       "      <td>8.000000e+06</td>\n",
       "      <td>2.869717e+06</td>\n",
       "      <td>-1.042000e+03</td>\n",
       "      <td>108750.0</td>\n",
       "      <td>1.979418e+07</td>\n",
       "      <td>228763.000000</td>\n",
       "      <td>14368.000000</td>\n",
       "      <td>528.000000</td>\n",
       "      <td>411.000000</td>\n",
       "      <td>NaN</td>\n",
       "      <td>2.234774e+06</td>\n",
       "      <td>2.660303e+06</td>\n",
       "      <td>1.384707e+07</td>\n",
       "      <td>-44093.000000</td>\n",
       "      <td>1.111258e+06</td>\n",
       "      <td>4527.000000</td>\n",
       "      <td>15149.000000</td>\n",
       "      <td>1.042576e+07</td>\n",
       "      <td>2.609367e+07</td>\n",
       "    </tr>\n",
       "  </tbody>\n",
       "</table>\n",
       "</div>"
      ],
      "text/plain": [
       "              bonus  deferral_payments  deferred_income  director_fees  \\\n",
       "count  5.600000e+01       1.700000e+01     2.400000e+01            1.0   \n",
       "mean   1.102408e+06       7.783555e+05    -6.190842e+05       108750.0   \n",
       "std    1.338009e+06       8.489520e+05     9.222139e+05            NaN   \n",
       "min    2.000000e+05       7.961000e+03    -3.504386e+06       108750.0   \n",
       "25%    5.000000e+05       7.771600e+04    -7.008965e+05       108750.0   \n",
       "50%    7.500000e+05       6.495840e+05    -2.712500e+05       108750.0   \n",
       "75%    1.025000e+06       1.130036e+06    -3.927075e+04       108750.0   \n",
       "max    8.000000e+06       2.869717e+06    -1.042000e+03       108750.0   \n",
       "\n",
       "       exercised_stock_options       expenses  from_messages  \\\n",
       "count             6.400000e+01      57.000000      56.000000   \n",
       "mean              2.602773e+06   51770.596491     817.392857   \n",
       "std               4.044925e+06   44409.929996    2219.082363   \n",
       "min               9.803000e+03     475.000000      12.000000   \n",
       "25%               5.701288e+05   22344.000000      28.750000   \n",
       "50%               1.176684e+06   43057.000000      54.000000   \n",
       "75%               2.702422e+06   59175.000000     221.250000   \n",
       "max               1.979418e+07  228763.000000   14368.000000   \n",
       "\n",
       "       from_poi_to_this_person  from_this_person_to_poi  loan_advances  \\\n",
       "count                56.000000                56.000000            0.0   \n",
       "mean                 71.946429                45.875000            NaN   \n",
       "std                  96.048931                94.570236            NaN   \n",
       "min                   0.000000                 0.000000            NaN   \n",
       "25%                  11.750000                 1.750000            NaN   \n",
       "50%                  36.000000                 9.500000            NaN   \n",
       "75%                  92.500000                40.500000            NaN   \n",
       "max                 528.000000               411.000000            NaN   \n",
       "\n",
       "       long_term_incentive         other  restricted_stock  \\\n",
       "count         4.400000e+01  6.100000e+01      8.100000e+01   \n",
       "mean          6.608865e+05  2.726141e+05      1.128598e+06   \n",
       "std           5.914695e+05  5.129647e+05      2.006182e+06   \n",
       "min           7.102300e+04  2.000000e+00      4.409300e+04   \n",
       "25%           2.750000e+05  1.191000e+03      2.640130e+05   \n",
       "50%           3.987310e+05  5.238200e+04      4.623840e+05   \n",
       "75%           8.142118e+05  3.010260e+05      9.567750e+05   \n",
       "max           2.234774e+06  2.660303e+06      1.384707e+07   \n",
       "\n",
       "       restricted_stock_deferred        salary  shared_receipt_with_poi  \\\n",
       "count                   9.000000  6.400000e+01                56.000000   \n",
       "mean              -251438.888889  2.660549e+05              1206.678571   \n",
       "std                193754.455597  1.371347e+05              1195.104120   \n",
       "min               -560222.000000  4.770000e+02                10.000000   \n",
       "25%               -409554.000000  2.115560e+05               283.250000   \n",
       "50%               -153686.000000  2.545700e+05               721.500000   \n",
       "75%                -94556.000000  2.885460e+05              2078.500000   \n",
       "max                -44093.000000  1.111258e+06              4527.000000   \n",
       "\n",
       "        to_messages  total_payments  total_stock_value  \n",
       "count     56.000000    6.900000e+01       8.100000e+01  \n",
       "mean    2336.428571    1.824704e+06       3.157172e+06  \n",
       "std     2949.069140    1.756582e+06       5.053621e+06  \n",
       "min      102.000000    4.750000e+02       8.564100e+04  \n",
       "25%      557.750000    9.114530e+05       5.974610e+05  \n",
       "50%     1211.000000    1.410464e+06       1.038185e+06  \n",
       "75%     2842.000000    2.101364e+06       3.101279e+06  \n",
       "max    15149.000000    1.042576e+07       2.609367e+07  "
      ]
     },
     "execution_count": 131,
     "metadata": {},
     "output_type": "execute_result"
    }
   ],
   "source": [
    "df_train.describe()"
   ]
  },
  {
   "cell_type": "code",
   "execution_count": 130,
   "metadata": {},
   "outputs": [
    {
     "data": {
      "text/plain": [
       "10425757.0"
      ]
     },
     "execution_count": 130,
     "metadata": {},
     "output_type": "execute_result"
    }
   ],
   "source": [
    "df_train['total_payments'].max()"
   ]
  },
  {
   "cell_type": "markdown",
   "metadata": {},
   "source": [
    "# Pre-process"
   ]
  },
  {
   "cell_type": "code",
   "execution_count": 3,
   "metadata": {},
   "outputs": [],
   "source": [
    "from sklearn.preprocessing import LabelEncoder, MinMaxScaler, OneHotEncoder"
   ]
  },
  {
   "cell_type": "markdown",
   "metadata": {},
   "source": [
    " ### 移除離群值"
   ]
  },
  {
   "cell_type": "code",
   "execution_count": 4,
   "metadata": {},
   "outputs": [],
   "source": [
    "df_train = df_train[df_train['total_stock_value'] != 49110078]"
   ]
  },
  {
   "cell_type": "code",
   "execution_count": 5,
   "metadata": {},
   "outputs": [],
   "source": [
    "# 移除價格金額 < 0 的資料\n",
    "df_train = df_train[df_train['total_stock_value'] > 0]\n",
    "df_train = df_train[df_train['restricted_stock'] > 0]"
   ]
  },
  {
   "cell_type": "code",
   "execution_count": 6,
   "metadata": {},
   "outputs": [],
   "source": [
    "train_Y = df_train['poi']"
   ]
  },
  {
   "cell_type": "code",
   "execution_count": 7,
   "metadata": {},
   "outputs": [
    {
     "name": "stdout",
     "output_type": "stream",
     "text": [
      "                           Total  Missing Ratio\n",
      "loan_advances                 81     100.000000\n",
      "director_fees                 80      98.765432\n",
      "restricted_stock_deferred     72      88.888889\n",
      "deferral_payments             64      79.012346\n",
      "deferred_income               57      70.370370\n",
      "long_term_incentive           37      45.679012\n",
      "bonus                         25      30.864198\n",
      "shared_receipt_with_poi       25      30.864198\n",
      "to_messages                   25      30.864198\n",
      "from_poi_to_this_person       25      30.864198\n",
      "from_messages                 25      30.864198\n",
      "from_this_person_to_poi       25      30.864198\n",
      "expenses                      24      29.629630\n",
      "other                         20      24.691358\n",
      "salary                        17      20.987654\n",
      "exercised_stock_options       17      20.987654\n",
      "total_payments                12      14.814815\n",
      "email_address                  9      11.111111\n",
      "total_stock_value              0       0.000000\n",
      "poi                            0       0.000000\n",
      "restricted_stock               0       0.000000\n",
      "name                           0       0.000000\n"
     ]
    }
   ],
   "source": [
    "def na_check(df_data):\n",
    "    total = df_data.isnull().sum().sort_values(ascending=False)\n",
    "    df_na = (df_data.isnull().sum() / len(df_data)) * 100\n",
    "    df_na = df_na.sort_values(ascending=False)\n",
    "    print(pd.concat([total, df_na], axis=1, keys=['Total', 'Missing Ratio']))\n",
    "    \n",
    "na_check(df_train)"
   ]
  },
  {
   "cell_type": "code",
   "execution_count": 8,
   "metadata": {},
   "outputs": [
    {
     "data": {
      "text/plain": [
       "(114, 20)"
      ]
     },
     "execution_count": 8,
     "metadata": {},
     "output_type": "execute_result"
    }
   ],
   "source": [
    "df_train2 = df_train.drop(['name','poi'], axis=1)\n",
    "df_test2 = df_test.drop(['name'], axis=1)\n",
    "df = pd.concat([df_train2, df_test2])\n",
    "df.shape"
   ]
  },
  {
   "cell_type": "raw",
   "metadata": {},
   "source": [
    "['loan_advances', 'poi', 'exercised_stock_options', 'total_stock_value',\n",
    "       'salary', 'total_payments']"
   ]
  },
  {
   "cell_type": "code",
   "execution_count": 9,
   "metadata": {
    "scrolled": false
   },
   "outputs": [
    {
     "data": {
      "text/html": [
       "<div>\n",
       "<style scoped>\n",
       "    .dataframe tbody tr th:only-of-type {\n",
       "        vertical-align: middle;\n",
       "    }\n",
       "\n",
       "    .dataframe tbody tr th {\n",
       "        vertical-align: top;\n",
       "    }\n",
       "\n",
       "    .dataframe thead th {\n",
       "        text-align: right;\n",
       "    }\n",
       "</style>\n",
       "<table border=\"1\" class=\"dataframe\">\n",
       "  <thead>\n",
       "    <tr style=\"text-align: right;\">\n",
       "      <th></th>\n",
       "      <th>salary</th>\n",
       "      <th>expenses</th>\n",
       "      <th>exercised_stock_options</th>\n",
       "      <th>restricted_stock</th>\n",
       "      <th>total_payments</th>\n",
       "      <th>total_stock_value</th>\n",
       "    </tr>\n",
       "  </thead>\n",
       "  <tbody>\n",
       "    <tr>\n",
       "      <th>0</th>\n",
       "      <td>420636.0</td>\n",
       "      <td>46950.0</td>\n",
       "      <td>19794175.0</td>\n",
       "      <td>2748364.0</td>\n",
       "      <td>505050.0</td>\n",
       "      <td>22542539.0</td>\n",
       "    </tr>\n",
       "    <tr>\n",
       "      <th>1</th>\n",
       "      <td>1111258.0</td>\n",
       "      <td>29336.0</td>\n",
       "      <td>19250000.0</td>\n",
       "      <td>6843672.0</td>\n",
       "      <td>8682716.0</td>\n",
       "      <td>26093672.0</td>\n",
       "    </tr>\n",
       "    <tr>\n",
       "      <th>2</th>\n",
       "      <td>211844.0</td>\n",
       "      <td>22884.0</td>\n",
       "      <td>1624396.0</td>\n",
       "      <td>869220.0</td>\n",
       "      <td>2003885.0</td>\n",
       "      <td>2493616.0</td>\n",
       "    </tr>\n",
       "    <tr>\n",
       "      <th>3</th>\n",
       "      <td>224305.0</td>\n",
       "      <td>118134.0</td>\n",
       "      <td>NaN</td>\n",
       "      <td>985032.0</td>\n",
       "      <td>2652612.0</td>\n",
       "      <td>985032.0</td>\n",
       "    </tr>\n",
       "    <tr>\n",
       "      <th>4</th>\n",
       "      <td>240189.0</td>\n",
       "      <td>35818.0</td>\n",
       "      <td>NaN</td>\n",
       "      <td>126027.0</td>\n",
       "      <td>1639297.0</td>\n",
       "      <td>126027.0</td>\n",
       "    </tr>\n",
       "    <tr>\n",
       "      <th>...</th>\n",
       "      <td>...</td>\n",
       "      <td>...</td>\n",
       "      <td>...</td>\n",
       "      <td>...</td>\n",
       "      <td>...</td>\n",
       "      <td>...</td>\n",
       "    </tr>\n",
       "    <tr>\n",
       "      <th>28</th>\n",
       "      <td>213625.0</td>\n",
       "      <td>38559.0</td>\n",
       "      <td>1465734.0</td>\n",
       "      <td>378082.0</td>\n",
       "      <td>2047593.0</td>\n",
       "      <td>1843816.0</td>\n",
       "    </tr>\n",
       "    <tr>\n",
       "      <th>29</th>\n",
       "      <td>428780.0</td>\n",
       "      <td>NaN</td>\n",
       "      <td>1835558.0</td>\n",
       "      <td>1293424.0</td>\n",
       "      <td>4335388.0</td>\n",
       "      <td>3128982.0</td>\n",
       "    </tr>\n",
       "    <tr>\n",
       "      <th>30</th>\n",
       "      <td>NaN</td>\n",
       "      <td>NaN</td>\n",
       "      <td>2218275.0</td>\n",
       "      <td>NaN</td>\n",
       "      <td>966522.0</td>\n",
       "      <td>2218275.0</td>\n",
       "    </tr>\n",
       "    <tr>\n",
       "      <th>31</th>\n",
       "      <td>236457.0</td>\n",
       "      <td>57727.0</td>\n",
       "      <td>2549361.0</td>\n",
       "      <td>514847.0</td>\n",
       "      <td>875889.0</td>\n",
       "      <td>3064208.0</td>\n",
       "    </tr>\n",
       "    <tr>\n",
       "      <th>32</th>\n",
       "      <td>370448.0</td>\n",
       "      <td>137108.0</td>\n",
       "      <td>1104054.0</td>\n",
       "      <td>558801.0</td>\n",
       "      <td>4099771.0</td>\n",
       "      <td>1662855.0</td>\n",
       "    </tr>\n",
       "  </tbody>\n",
       "</table>\n",
       "<p>114 rows × 6 columns</p>\n",
       "</div>"
      ],
      "text/plain": [
       "       salary  expenses  exercised_stock_options  restricted_stock  \\\n",
       "0    420636.0   46950.0               19794175.0         2748364.0   \n",
       "1   1111258.0   29336.0               19250000.0         6843672.0   \n",
       "2    211844.0   22884.0                1624396.0          869220.0   \n",
       "3    224305.0  118134.0                      NaN          985032.0   \n",
       "4    240189.0   35818.0                      NaN          126027.0   \n",
       "..        ...       ...                      ...               ...   \n",
       "28   213625.0   38559.0                1465734.0          378082.0   \n",
       "29   428780.0       NaN                1835558.0         1293424.0   \n",
       "30        NaN       NaN                2218275.0               NaN   \n",
       "31   236457.0   57727.0                2549361.0          514847.0   \n",
       "32   370448.0  137108.0                1104054.0          558801.0   \n",
       "\n",
       "    total_payments  total_stock_value  \n",
       "0         505050.0         22542539.0  \n",
       "1        8682716.0         26093672.0  \n",
       "2        2003885.0          2493616.0  \n",
       "3        2652612.0           985032.0  \n",
       "4        1639297.0           126027.0  \n",
       "..             ...                ...  \n",
       "28       2047593.0          1843816.0  \n",
       "29       4335388.0          3128982.0  \n",
       "30        966522.0          2218275.0  \n",
       "31        875889.0          3064208.0  \n",
       "32       4099771.0          1662855.0  \n",
       "\n",
       "[114 rows x 6 columns]"
      ]
     },
     "execution_count": 9,
     "metadata": {},
     "output_type": "execute_result"
    }
   ],
   "source": [
    "df_cols = ['salary','expenses','exercised_stock_options','restricted_stock'\n",
    "                         ,'total_payments','total_stock_value']\n",
    "df_train_flt = df[df_cols]\n",
    "df_train_flt"
   ]
  },
  {
   "cell_type": "code",
   "execution_count": 120,
   "metadata": {
    "scrolled": false
   },
   "outputs": [
    {
     "data": {
      "text/html": [
       "<div>\n",
       "<style scoped>\n",
       "    .dataframe tbody tr th:only-of-type {\n",
       "        vertical-align: middle;\n",
       "    }\n",
       "\n",
       "    .dataframe tbody tr th {\n",
       "        vertical-align: top;\n",
       "    }\n",
       "\n",
       "    .dataframe thead th {\n",
       "        text-align: right;\n",
       "    }\n",
       "</style>\n",
       "<table border=\"1\" class=\"dataframe\">\n",
       "  <thead>\n",
       "    <tr style=\"text-align: right;\">\n",
       "      <th></th>\n",
       "      <th>salary</th>\n",
       "      <th>expenses</th>\n",
       "      <th>exercised_stock_options</th>\n",
       "      <th>restricted_stock</th>\n",
       "      <th>total_payments</th>\n",
       "      <th>total_stock_value</th>\n",
       "    </tr>\n",
       "  </thead>\n",
       "  <tbody>\n",
       "    <tr>\n",
       "      <th>count</th>\n",
       "      <td>8.700000e+01</td>\n",
       "      <td>8.000000e+01</td>\n",
       "      <td>8.600000e+01</td>\n",
       "      <td>1.100000e+02</td>\n",
       "      <td>9.900000e+01</td>\n",
       "      <td>1.100000e+02</td>\n",
       "    </tr>\n",
       "    <tr>\n",
       "      <th>mean</th>\n",
       "      <td>5.921081e+05</td>\n",
       "      <td>1.206755e+05</td>\n",
       "      <td>6.625742e+06</td>\n",
       "      <td>2.321741e+06</td>\n",
       "      <td>6.221428e+06</td>\n",
       "      <td>7.388185e+06</td>\n",
       "    </tr>\n",
       "    <tr>\n",
       "      <th>std</th>\n",
       "      <td>2.837427e+06</td>\n",
       "      <td>5.806583e+05</td>\n",
       "      <td>3.367121e+07</td>\n",
       "      <td>1.251828e+07</td>\n",
       "      <td>3.258226e+07</td>\n",
       "      <td>4.158877e+07</td>\n",
       "    </tr>\n",
       "    <tr>\n",
       "      <th>min</th>\n",
       "      <td>4.770000e+02</td>\n",
       "      <td>4.750000e+02</td>\n",
       "      <td>9.803000e+03</td>\n",
       "      <td>-2.604490e+06</td>\n",
       "      <td>4.750000e+02</td>\n",
       "      <td>4.730400e+04</td>\n",
       "    </tr>\n",
       "    <tr>\n",
       "      <th>25%</th>\n",
       "      <td>2.138120e+05</td>\n",
       "      <td>2.530625e+04</td>\n",
       "      <td>6.549812e+05</td>\n",
       "      <td>2.540180e+05</td>\n",
       "      <td>8.100750e+05</td>\n",
       "      <td>6.614698e+05</td>\n",
       "    </tr>\n",
       "    <tr>\n",
       "      <th>50%</th>\n",
       "      <td>2.615160e+05</td>\n",
       "      <td>4.838100e+04</td>\n",
       "      <td>1.446884e+06</td>\n",
       "      <td>4.517400e+05</td>\n",
       "      <td>1.321557e+06</td>\n",
       "      <td>1.292445e+06</td>\n",
       "    </tr>\n",
       "    <tr>\n",
       "      <th>75%</th>\n",
       "      <td>3.121170e+05</td>\n",
       "      <td>8.191925e+04</td>\n",
       "      <td>3.257532e+06</td>\n",
       "      <td>1.002370e+06</td>\n",
       "      <td>2.396117e+06</td>\n",
       "      <td>3.365598e+06</td>\n",
       "    </tr>\n",
       "    <tr>\n",
       "      <th>max</th>\n",
       "      <td>2.670423e+07</td>\n",
       "      <td>5.235198e+06</td>\n",
       "      <td>3.117640e+08</td>\n",
       "      <td>1.303223e+08</td>\n",
       "      <td>3.098866e+08</td>\n",
       "      <td>4.345095e+08</td>\n",
       "    </tr>\n",
       "  </tbody>\n",
       "</table>\n",
       "</div>"
      ],
      "text/plain": [
       "             salary      expenses  exercised_stock_options  restricted_stock  \\\n",
       "count  8.700000e+01  8.000000e+01             8.600000e+01      1.100000e+02   \n",
       "mean   5.921081e+05  1.206755e+05             6.625742e+06      2.321741e+06   \n",
       "std    2.837427e+06  5.806583e+05             3.367121e+07      1.251828e+07   \n",
       "min    4.770000e+02  4.750000e+02             9.803000e+03     -2.604490e+06   \n",
       "25%    2.138120e+05  2.530625e+04             6.549812e+05      2.540180e+05   \n",
       "50%    2.615160e+05  4.838100e+04             1.446884e+06      4.517400e+05   \n",
       "75%    3.121170e+05  8.191925e+04             3.257532e+06      1.002370e+06   \n",
       "max    2.670423e+07  5.235198e+06             3.117640e+08      1.303223e+08   \n",
       "\n",
       "       total_payments  total_stock_value  \n",
       "count    9.900000e+01       1.100000e+02  \n",
       "mean     6.221428e+06       7.388185e+06  \n",
       "std      3.258226e+07       4.158877e+07  \n",
       "min      4.750000e+02       4.730400e+04  \n",
       "25%      8.100750e+05       6.614698e+05  \n",
       "50%      1.321557e+06       1.292445e+06  \n",
       "75%      2.396117e+06       3.365598e+06  \n",
       "max      3.098866e+08       4.345095e+08  "
      ]
     },
     "execution_count": 120,
     "metadata": {},
     "output_type": "execute_result"
    }
   ],
   "source": [
    "df_train_flt.describe()"
   ]
  },
  {
   "cell_type": "code",
   "execution_count": 10,
   "metadata": {},
   "outputs": [],
   "source": [
    "# 缺值補 平均值\n",
    "for c in df_cols:\n",
    "    if df_train_flt[c].dtypes == 'float64':\n",
    "        df_train_flt[c] = df_train_flt[c].fillna(df_train_flt[c].mean())"
   ]
  },
  {
   "cell_type": "code",
   "execution_count": 122,
   "metadata": {
    "collapsed": true
   },
   "outputs": [
    {
     "ename": "KeyError",
     "evalue": "'email_address'",
     "output_type": "error",
     "traceback": [
      "\u001b[1;31m---------------------------------------------------------------------------\u001b[0m",
      "\u001b[1;31mKeyError\u001b[0m                                  Traceback (most recent call last)",
      "\u001b[1;32mC:\\Users\\Me\\.julia\\conda\\3\\lib\\site-packages\\pandas\\core\\indexes\\base.py\u001b[0m in \u001b[0;36mget_loc\u001b[1;34m(self, key, method, tolerance)\u001b[0m\n\u001b[0;32m   2896\u001b[0m             \u001b[1;32mtry\u001b[0m\u001b[1;33m:\u001b[0m\u001b[1;33m\u001b[0m\u001b[1;33m\u001b[0m\u001b[0m\n\u001b[1;32m-> 2897\u001b[1;33m                 \u001b[1;32mreturn\u001b[0m \u001b[0mself\u001b[0m\u001b[1;33m.\u001b[0m\u001b[0m_engine\u001b[0m\u001b[1;33m.\u001b[0m\u001b[0mget_loc\u001b[0m\u001b[1;33m(\u001b[0m\u001b[0mkey\u001b[0m\u001b[1;33m)\u001b[0m\u001b[1;33m\u001b[0m\u001b[1;33m\u001b[0m\u001b[0m\n\u001b[0m\u001b[0;32m   2898\u001b[0m             \u001b[1;32mexcept\u001b[0m \u001b[0mKeyError\u001b[0m\u001b[1;33m:\u001b[0m\u001b[1;33m\u001b[0m\u001b[1;33m\u001b[0m\u001b[0m\n",
      "\u001b[1;32mpandas/_libs/index.pyx\u001b[0m in \u001b[0;36mpandas._libs.index.IndexEngine.get_loc\u001b[1;34m()\u001b[0m\n",
      "\u001b[1;32mpandas/_libs/index.pyx\u001b[0m in \u001b[0;36mpandas._libs.index.IndexEngine.get_loc\u001b[1;34m()\u001b[0m\n",
      "\u001b[1;32mpandas/_libs/hashtable_class_helper.pxi\u001b[0m in \u001b[0;36mpandas._libs.hashtable.PyObjectHashTable.get_item\u001b[1;34m()\u001b[0m\n",
      "\u001b[1;32mpandas/_libs/hashtable_class_helper.pxi\u001b[0m in \u001b[0;36mpandas._libs.hashtable.PyObjectHashTable.get_item\u001b[1;34m()\u001b[0m\n",
      "\u001b[1;31mKeyError\u001b[0m: 'email_address'",
      "\nDuring handling of the above exception, another exception occurred:\n",
      "\u001b[1;31mKeyError\u001b[0m                                  Traceback (most recent call last)",
      "\u001b[1;32m<ipython-input-122-5c3e2970a86c>\u001b[0m in \u001b[0;36m<module>\u001b[1;34m\u001b[0m\n\u001b[0;32m      1\u001b[0m \u001b[1;31m# 缺值補 None\u001b[0m\u001b[1;33m\u001b[0m\u001b[1;33m\u001b[0m\u001b[1;33m\u001b[0m\u001b[0m\n\u001b[1;32m----> 2\u001b[1;33m \u001b[0mdf_train_flt\u001b[0m\u001b[1;33m[\u001b[0m\u001b[1;34m'email_address'\u001b[0m\u001b[1;33m]\u001b[0m \u001b[1;33m=\u001b[0m \u001b[0mdf_train_flt\u001b[0m\u001b[1;33m[\u001b[0m\u001b[1;34m'email_address'\u001b[0m\u001b[1;33m]\u001b[0m\u001b[1;33m.\u001b[0m\u001b[0mfillna\u001b[0m\u001b[1;33m(\u001b[0m\u001b[1;34m'None'\u001b[0m\u001b[1;33m)\u001b[0m\u001b[1;33m\u001b[0m\u001b[1;33m\u001b[0m\u001b[0m\n\u001b[0m",
      "\u001b[1;32mC:\\Users\\Me\\.julia\\conda\\3\\lib\\site-packages\\pandas\\core\\frame.py\u001b[0m in \u001b[0;36m__getitem__\u001b[1;34m(self, key)\u001b[0m\n\u001b[0;32m   2993\u001b[0m             \u001b[1;32mif\u001b[0m \u001b[0mself\u001b[0m\u001b[1;33m.\u001b[0m\u001b[0mcolumns\u001b[0m\u001b[1;33m.\u001b[0m\u001b[0mnlevels\u001b[0m \u001b[1;33m>\u001b[0m \u001b[1;36m1\u001b[0m\u001b[1;33m:\u001b[0m\u001b[1;33m\u001b[0m\u001b[1;33m\u001b[0m\u001b[0m\n\u001b[0;32m   2994\u001b[0m                 \u001b[1;32mreturn\u001b[0m \u001b[0mself\u001b[0m\u001b[1;33m.\u001b[0m\u001b[0m_getitem_multilevel\u001b[0m\u001b[1;33m(\u001b[0m\u001b[0mkey\u001b[0m\u001b[1;33m)\u001b[0m\u001b[1;33m\u001b[0m\u001b[1;33m\u001b[0m\u001b[0m\n\u001b[1;32m-> 2995\u001b[1;33m             \u001b[0mindexer\u001b[0m \u001b[1;33m=\u001b[0m \u001b[0mself\u001b[0m\u001b[1;33m.\u001b[0m\u001b[0mcolumns\u001b[0m\u001b[1;33m.\u001b[0m\u001b[0mget_loc\u001b[0m\u001b[1;33m(\u001b[0m\u001b[0mkey\u001b[0m\u001b[1;33m)\u001b[0m\u001b[1;33m\u001b[0m\u001b[1;33m\u001b[0m\u001b[0m\n\u001b[0m\u001b[0;32m   2996\u001b[0m             \u001b[1;32mif\u001b[0m \u001b[0mis_integer\u001b[0m\u001b[1;33m(\u001b[0m\u001b[0mindexer\u001b[0m\u001b[1;33m)\u001b[0m\u001b[1;33m:\u001b[0m\u001b[1;33m\u001b[0m\u001b[1;33m\u001b[0m\u001b[0m\n\u001b[0;32m   2997\u001b[0m                 \u001b[0mindexer\u001b[0m \u001b[1;33m=\u001b[0m \u001b[1;33m[\u001b[0m\u001b[0mindexer\u001b[0m\u001b[1;33m]\u001b[0m\u001b[1;33m\u001b[0m\u001b[1;33m\u001b[0m\u001b[0m\n",
      "\u001b[1;32mC:\\Users\\Me\\.julia\\conda\\3\\lib\\site-packages\\pandas\\core\\indexes\\base.py\u001b[0m in \u001b[0;36mget_loc\u001b[1;34m(self, key, method, tolerance)\u001b[0m\n\u001b[0;32m   2897\u001b[0m                 \u001b[1;32mreturn\u001b[0m \u001b[0mself\u001b[0m\u001b[1;33m.\u001b[0m\u001b[0m_engine\u001b[0m\u001b[1;33m.\u001b[0m\u001b[0mget_loc\u001b[0m\u001b[1;33m(\u001b[0m\u001b[0mkey\u001b[0m\u001b[1;33m)\u001b[0m\u001b[1;33m\u001b[0m\u001b[1;33m\u001b[0m\u001b[0m\n\u001b[0;32m   2898\u001b[0m             \u001b[1;32mexcept\u001b[0m \u001b[0mKeyError\u001b[0m\u001b[1;33m:\u001b[0m\u001b[1;33m\u001b[0m\u001b[1;33m\u001b[0m\u001b[0m\n\u001b[1;32m-> 2899\u001b[1;33m                 \u001b[1;32mreturn\u001b[0m \u001b[0mself\u001b[0m\u001b[1;33m.\u001b[0m\u001b[0m_engine\u001b[0m\u001b[1;33m.\u001b[0m\u001b[0mget_loc\u001b[0m\u001b[1;33m(\u001b[0m\u001b[0mself\u001b[0m\u001b[1;33m.\u001b[0m\u001b[0m_maybe_cast_indexer\u001b[0m\u001b[1;33m(\u001b[0m\u001b[0mkey\u001b[0m\u001b[1;33m)\u001b[0m\u001b[1;33m)\u001b[0m\u001b[1;33m\u001b[0m\u001b[1;33m\u001b[0m\u001b[0m\n\u001b[0m\u001b[0;32m   2900\u001b[0m         \u001b[0mindexer\u001b[0m \u001b[1;33m=\u001b[0m \u001b[0mself\u001b[0m\u001b[1;33m.\u001b[0m\u001b[0mget_indexer\u001b[0m\u001b[1;33m(\u001b[0m\u001b[1;33m[\u001b[0m\u001b[0mkey\u001b[0m\u001b[1;33m]\u001b[0m\u001b[1;33m,\u001b[0m \u001b[0mmethod\u001b[0m\u001b[1;33m=\u001b[0m\u001b[0mmethod\u001b[0m\u001b[1;33m,\u001b[0m \u001b[0mtolerance\u001b[0m\u001b[1;33m=\u001b[0m\u001b[0mtolerance\u001b[0m\u001b[1;33m)\u001b[0m\u001b[1;33m\u001b[0m\u001b[1;33m\u001b[0m\u001b[0m\n\u001b[0;32m   2901\u001b[0m         \u001b[1;32mif\u001b[0m \u001b[0mindexer\u001b[0m\u001b[1;33m.\u001b[0m\u001b[0mndim\u001b[0m \u001b[1;33m>\u001b[0m \u001b[1;36m1\u001b[0m \u001b[1;32mor\u001b[0m \u001b[0mindexer\u001b[0m\u001b[1;33m.\u001b[0m\u001b[0msize\u001b[0m \u001b[1;33m>\u001b[0m \u001b[1;36m1\u001b[0m\u001b[1;33m:\u001b[0m\u001b[1;33m\u001b[0m\u001b[1;33m\u001b[0m\u001b[0m\n",
      "\u001b[1;32mpandas/_libs/index.pyx\u001b[0m in \u001b[0;36mpandas._libs.index.IndexEngine.get_loc\u001b[1;34m()\u001b[0m\n",
      "\u001b[1;32mpandas/_libs/index.pyx\u001b[0m in \u001b[0;36mpandas._libs.index.IndexEngine.get_loc\u001b[1;34m()\u001b[0m\n",
      "\u001b[1;32mpandas/_libs/hashtable_class_helper.pxi\u001b[0m in \u001b[0;36mpandas._libs.hashtable.PyObjectHashTable.get_item\u001b[1;34m()\u001b[0m\n",
      "\u001b[1;32mpandas/_libs/hashtable_class_helper.pxi\u001b[0m in \u001b[0;36mpandas._libs.hashtable.PyObjectHashTable.get_item\u001b[1;34m()\u001b[0m\n",
      "\u001b[1;31mKeyError\u001b[0m: 'email_address'"
     ]
    }
   ],
   "source": [
    "# 缺值補 None\n",
    "df_train_flt['email_address'] = df_train_flt['email_address'].fillna('None')"
   ]
  },
  {
   "cell_type": "code",
   "execution_count": 11,
   "metadata": {
    "scrolled": true
   },
   "outputs": [
    {
     "name": "stdout",
     "output_type": "stream",
     "text": [
      "                         Total  Missing Ratio\n",
      "total_stock_value            0            0.0\n",
      "total_payments               0            0.0\n",
      "restricted_stock             0            0.0\n",
      "exercised_stock_options      0            0.0\n",
      "expenses                     0            0.0\n",
      "salary                       0            0.0\n"
     ]
    }
   ],
   "source": [
    "# 做完各種補缺值, 確認一下有沒有遺漏\n",
    "na_check(df_train_flt)"
   ]
  },
  {
   "cell_type": "code",
   "execution_count": 32,
   "metadata": {},
   "outputs": [],
   "source": [
    "# one-hot encoder\n",
    "df_train_flt = pd.get_dummies(df_train_flt)"
   ]
  },
  {
   "cell_type": "code",
   "execution_count": 12,
   "metadata": {},
   "outputs": [
    {
     "data": {
      "text/plain": [
       "((81, 6), (33, 6))"
      ]
     },
     "execution_count": 12,
     "metadata": {},
     "output_type": "execute_result"
    }
   ],
   "source": [
    "# 將前述轉換完畢資料 df_train_flt , 重新切成 train_X, test_X\n",
    "train_num = train_Y.shape[0]\n",
    "train_X = df_train_flt[:train_num]\n",
    "test_X = df_train_flt[train_num:]\n",
    "train_X.shape, test_X.shape"
   ]
  },
  {
   "cell_type": "markdown",
   "metadata": {},
   "source": [
    "# Model"
   ]
  },
  {
   "cell_type": "code",
   "execution_count": 13,
   "metadata": {},
   "outputs": [],
   "source": [
    "from sklearn import metrics, datasets, linear_model\n",
    "from sklearn.model_selection import KFold, cross_val_score, train_test_split, GridSearchCV, RandomizedSearchCV\n",
    "from sklearn.neighbors import KNeighborsClassifier\n",
    "from sklearn.ensemble import RandomForestClassifier, GradientBoostingClassifier\n"
   ]
  },
  {
   "cell_type": "code",
   "execution_count": 71,
   "metadata": {},
   "outputs": [],
   "source": [
    "# knn\n",
    "k_range = range(1,11)\n",
    "k_scores = []\n",
    "train_accuracy = []\n",
    "val_accuracy = []\n",
    "bestKnn = None\n",
    "bestAcc = 0.0\n",
    "X_train = train_X\n",
    "y_train = train_Y\n",
    "for k_number in k_range:\n",
    "    # define model\n",
    "    knn = KNeighborsClassifier(n_neighbors=k_number, n_jobs=-1)\n",
    "    \n",
    "    # train model\n",
    "    knn.fit(X_train, y_train)\n",
    "    \n",
    "    # train data accuracy\n",
    "    train_accuracy.append(knn.score(X_train, y_train))\n",
    "    \n",
    "    # cross validation accuracy\n",
    "    tempAccuracy = cross_val_score(knn, X_train, y_train, cv=10, scoring='accuracy').mean()\n",
    "    val_accuracy.append(tempAccuracy)\n",
    "    if tempAccuracy > bestAcc:\n",
    "        bestAcc = tempAccuracy\n",
    "        bestKnn = knn"
   ]
  },
  {
   "cell_type": "code",
   "execution_count": 72,
   "metadata": {
    "collapsed": true
   },
   "outputs": [
    {
     "data": {
      "image/png": "[encoded data removed]",
      "text/plain": [
       "<Figure size 936x576 with 1 Axes>"
      ]
     },
     "metadata": {
      "needs_background": "light"
     },
     "output_type": "display_data"
    },
    {
     "name": "stdout",
     "output_type": "stream",
     "text": [
      "Best Accuracy without feature scaling: 0.9121212121212121\n",
      "KNeighborsClassifier(algorithm='auto', leaf_size=30, metric='minkowski',\n",
      "                     metric_params=None, n_jobs=-1, n_neighbors=3, p=2,\n",
      "                     weights='uniform')\n"
     ]
    }
   ],
   "source": [
    "# Plot\n",
    "plt.figure(figsize=[13,8])\n",
    "plt.plot(k_range, val_accuracy, label = 'Validation Accuracy')\n",
    "plt.plot(k_range, train_accuracy, label = 'Training Accuracy')\n",
    "plt.legend()\n",
    "plt.title('k value VS Accuracy')\n",
    "plt.xlabel('Number of Neighbors')\n",
    "plt.ylabel('Accuracy')\n",
    "plt.xticks(k_range)\n",
    "plt.show()\n",
    "\n",
    "print('Best Accuracy without feature scaling:', bestAcc)\n",
    "print(bestKnn)"
   ]
  },
  {
   "cell_type": "code",
   "execution_count": 73,
   "metadata": {},
   "outputs": [
    {
     "name": "stdout",
     "output_type": "stream",
     "text": [
      "KNN Best Score 0.911504424778761\n",
      "KNN Best Params {'n_neighbors': 3}\n",
      "KNN Accuracy 0.9121212121212121\n"
     ]
    },
    {
     "name": "stderr",
     "output_type": "stream",
     "text": [
      "C:\\Users\\Me\\.julia\\conda\\3\\lib\\site-packages\\sklearn\\model_selection\\_search.py:814: DeprecationWarning: The default of the `iid` parameter will change from True to False in version 0.22 and will be removed in 0.24. This will change numeric results when test-set sizes are unequal.\n",
      "  DeprecationWarning)\n"
     ]
    }
   ],
   "source": [
    "#USING GRID SEARCH\n",
    "n_neighbors=[3,5,6,7,8,9,10]\n",
    "param_grid = dict(n_neighbors=n_neighbors)\n",
    "\n",
    "grid_search_knn = GridSearchCV(estimator=knn, param_grid=param_grid, cv = 10, n_jobs=-1,scoring='accuracy').fit(train_X,train_Y)\n",
    "knn_best = grid_search_knn.best_estimator_\n",
    "print('KNN Best Score', grid_search_knn.best_score_)\n",
    "print('KNN Best Params',grid_search_knn.best_params_)\n",
    "print('KNN Accuracy',cross_val_score(knn_best,train_X, train_Y, cv=10).mean())"
   ]
  },
  {
   "cell_type": "code",
   "execution_count": 14,
   "metadata": {},
   "outputs": [
    {
     "name": "stdout",
     "output_type": "stream",
     "text": [
      "0.8416666666666666\n"
     ]
    }
   ],
   "source": [
    "\n",
    "knn_best = KNeighborsClassifier(n_neighbors=3)\n",
    "knn_best.fit(train_X,train_Y)\n",
    "print(cross_val_score(knn_best, train_X, train_Y, cv=10).mean())\n",
    "knn_pred = knn_best.predict_proba(test_X)[:,1]\n",
    "sub = pd.DataFrame({'name':id,'poi':knn_pred})\n",
    "# sub['poi'] = sub['poi'].map(lambda x:1 if x> 0.5 else 0)\n",
    "sub.to_csv('Enron_knn.csv', index=False)"
   ]
  },
  {
   "cell_type": "code",
   "execution_count": 15,
   "metadata": {},
   "outputs": [
    {
     "name": "stdout",
     "output_type": "stream",
     "text": [
      "0.8527777777777779\n"
     ]
    }
   ],
   "source": [
    "#random forest\n",
    "\n",
    "rfc = RandomForestClassifier(random_state=42, max_depth=3, n_estimators=50)\n",
    "print(cross_val_score(rfc, train_X, train_Y, cv=10).mean())\n",
    "\n",
    "# save to csv\n",
    "rfc.fit(train_X, train_Y)\n",
    "rfc_pred = rfc.predict_proba(test_X)[:,1]\n",
    "sub = pd.DataFrame({'name':id,'poi':rfc_pred})\n",
    "# sub['poi'] = sub['poi'].map(lambda x:1 if x> 0.5 else 0)\n",
    "sub.to_csv('Enron_rfc.csv', index=False)"
   ]
  },
  {
   "cell_type": "code",
   "execution_count": 74,
   "metadata": {},
   "outputs": [
    {
     "name": "stderr",
     "output_type": "stream",
     "text": [
      "C:\\Users\\Me\\.julia\\conda\\3\\lib\\site-packages\\sklearn\\model_selection\\_search.py:814: DeprecationWarning: The default of the `iid` parameter will change from True to False in version 0.22 and will be removed in 0.24. This will change numeric results when test-set sizes are unequal.\n",
      "  DeprecationWarning)\n"
     ]
    },
    {
     "name": "stdout",
     "output_type": "stream",
     "text": [
      "Random Forest Best Score 0.8849557522123894\n",
      "Random Forest Best Parmas {'max_depth': 3, 'n_estimators': 50}\n",
      "Random Forest Accuracy 0.8863636363636364\n"
     ]
    }
   ],
   "source": [
    "#USING GRID SEARCH\n",
    "n_estimators = [10, 50, 100, 200,400]\n",
    "max_depth = [3, 10, 20, 40]\n",
    "param_grid = dict(n_estimators=n_estimators,max_depth=max_depth)\n",
    "\n",
    "grid_search_rfc = GridSearchCV(estimator=rfc, param_grid=param_grid, cv = 10,scoring='accuracy',n_jobs=-1).fit(train_X, train_Y)\n",
    "rfc_best = grid_search_rfc.best_estimator_\n",
    "print('Random Forest Best Score',grid_search_rfc.best_score_)\n",
    "print('Random Forest Best Parmas',grid_search_rfc.best_params_)\n",
    "print('Random Forest Accuracy',cross_val_score(rfc_best,train_X, train_Y, cv=10).mean())"
   ]
  },
  {
   "cell_type": "code",
   "execution_count": 16,
   "metadata": {},
   "outputs": [
    {
     "name": "stdout",
     "output_type": "stream",
     "text": [
      "0.8277777777777778\n"
     ]
    }
   ],
   "source": [
    "# GradientBoostingClassifier\n",
    "\n",
    "# gdbt = GradientBoostingClassifier(subsample=0.93, n_estimators=320, min_samples_split=0.1,\n",
    "#                                  min_samples_leaf=0.3, max_features=4, max_depth=4, learning_rate=0.16) # 調整參數\n",
    "# gdbt = GradientBoostingClassifier(subsample=0.6, n_estimators=400, max_depth=4, learning_rate=0.05) # 調整參數\n",
    "gdbt = GradientBoostingClassifier(subsample=0.6, n_estimators=50, max_depth=3, learning_rate=0.05) # 調整參數\n",
    "# gdbt.fit(train_X, train_Y) # 訓練 GDBT\n",
    "\n",
    "# y_pred = gdbt.predict(test_X)\n",
    "\n",
    "print(cross_val_score(gdbt, train_X, train_Y, cv=10).mean())\n",
    "\n",
    "# save to csv\n",
    "gdbt.fit(train_X, train_Y)\n",
    "gdbt_pred = gdbt.predict_proba(test_X)[:,1]\n",
    "sub = pd.DataFrame({'name':id,'poi':gdbt_pred})\n",
    "# sub['poi'] = sub['poi'].map(lambda x:1 if x> 0.5 else 0)\n",
    "sub.to_csv('Enron_gdbt.csv', index=False)"
   ]
  },
  {
   "cell_type": "code",
   "execution_count": 32,
   "metadata": {},
   "outputs": [
    {
     "name": "stderr",
     "output_type": "stream",
     "text": [
      "C:\\Users\\Me\\.julia\\conda\\3\\lib\\site-packages\\sklearn\\model_selection\\_search.py:814: DeprecationWarning: The default of the `iid` parameter will change from True to False in version 0.22 and will be removed in 0.24. This will change numeric results when test-set sizes are unequal.\n",
      "  DeprecationWarning)\n"
     ]
    },
    {
     "name": "stdout",
     "output_type": "stream",
     "text": [
      "GDBT Best Score 0.9026548672566371\n",
      "GDBT Best Parmas {'learning_rate': 0.05, 'max_depth': 3, 'n_estimators': 50, 'subsample': 0.6}\n",
      "GDBT Accuracy 0.8946969696969695\n"
     ]
    }
   ],
   "source": [
    "#USING GRID SEARCH\n",
    "gdbt = GradientBoostingClassifier()\n",
    "subsample =  [0.5, 0.6, 0.8, 0.9, 0.93, 0.95]\n",
    "n_estimators = [10, 50, 100, 200, 320, 400]\n",
    "max_depth = [3, 4, 10, 20, 40]\n",
    "lr = [0.01, 0.05, 0.1, 0.15, 0.16, 0.2]\n",
    "param_grid = dict(n_estimators=n_estimators, max_depth=max_depth, learning_rate = lr, subsample = subsample)\n",
    "\n",
    "grid_search_gdbt = GridSearchCV(estimator=gdbt, param_grid=param_grid, cv = 10,scoring='accuracy',n_jobs=-1).fit(train_X, train_Y)\n",
    "gdbt_best = grid_search_gdbt.best_estimator_\n",
    "print('GDBT Best Score',grid_search_gdbt.best_score_)\n",
    "print('GDBT Best Parmas',grid_search_gdbt.best_params_)\n",
    "print('GDBT Accuracy',cross_val_score(gdbt_best,train_X, train_Y, cv=10).mean())"
   ]
  },
  {
   "cell_type": "code",
   "execution_count": 99,
   "metadata": {},
   "outputs": [
    {
     "data": {
      "text/plain": [
       "0.8863636363636364"
      ]
     },
     "execution_count": 99,
     "metadata": {},
     "output_type": "execute_result"
    }
   ],
   "source": [
    "# SVM\n",
    "from sklearn.svm import SVC\n",
    "svc = SVC()\n",
    "cross_val_score(svc, train_X, train_Y, cv=10).mean()"
   ]
  },
  {
   "cell_type": "code",
   "execution_count": null,
   "metadata": {},
   "outputs": [],
   "source": [
    "# SVM\n",
    "svc = SVC()\n",
    "\n",
    "#USING GRID SEARCH\n",
    "parameters = [{'kernel':['linear'],'C':[1,10,100]},\n",
    "              {'kernel':['rbf'],'C':[1,10,100],'gamma':[0.05,0.0001,0.01,0.001]}]\n",
    "grid_search_svm = GridSearchCV(estimator=svc, param_grid=parameters, cv = 10, n_jobs=-1,scoring='accuracy').fit(train_X, train_Y)\n",
    "svm_best = grid_search_svm.best_estimator_\n",
    "print('SVM Best Score',grid_search_svm.best_score_)\n",
    "print('SVM Best Params',grid_search_svm.best_params_)\n",
    "print('SVM Accuracy',cross_val_score(svm_best,gmm_train, train_labels.values.ravel(), cv=10).mean())"
   ]
  },
  {
   "cell_type": "code",
   "execution_count": 17,
   "metadata": {},
   "outputs": [],
   "source": [
    "# 使用三種模型 : 線性迴歸 / 梯度提升機 / 隨機森林, 參數使用 Random Search 尋找\n",
    "from sklearn.linear_model import LinearRegression\n",
    "from sklearn.ensemble import GradientBoostingRegressor, RandomForestRegressor\n",
    "linear = LinearRegression(normalize=False, fit_intercept=True, copy_X=True)\n",
    "gdbt = GradientBoostingRegressor(tol=0.1, subsample=0.37, n_estimators=200, max_features=20, \n",
    "                                 max_depth=6, learning_rate=0.03)\n",
    "rf = RandomForestRegressor(n_estimators=300, min_samples_split=9, min_samples_leaf=10, \n",
    "                           max_features='sqrt', max_depth=8, bootstrap=False)"
   ]
  },
  {
   "cell_type": "code",
   "execution_count": 39,
   "metadata": {},
   "outputs": [
    {
     "name": "stdout",
     "output_type": "stream",
     "text": [
      "0.0006836359995221808\n"
     ]
    }
   ],
   "source": [
    "print(cross_val_score(linear, train_X, train_Y, cv=10).mean())\n",
    "\n",
    "linear.fit(train_X, train_Y)\n",
    "linear_pred = linear.predict(test_X)\n",
    "sub = pd.DataFrame({'name':id,'poi':linear_pred})\n",
    "sub.to_csv('Enron_linear.csv', index=False)"
   ]
  },
  {
   "cell_type": "code",
   "execution_count": 40,
   "metadata": {},
   "outputs": [
    {
     "name": "stdout",
     "output_type": "stream",
     "text": [
      "0.002603412361405688\n"
     ]
    }
   ],
   "source": [
    "# 隨機森林預測檔 \n",
    "print(cross_val_score(rf, train_X, train_Y, cv=10).mean())\n",
    "rf.fit(train_X, train_Y)\n",
    "rf_pred = rf.predict(test_X)\n",
    "sub = pd.DataFrame({'name':id,'poi':rf_pred})\n",
    "sub.to_csv('Enron_rfr.csv', index=False)"
   ]
  },
  {
   "cell_type": "code",
   "execution_count": null,
   "metadata": {},
   "outputs": [],
   "source": []
  },
  {
   "cell_type": "markdown",
   "metadata": {},
   "source": [
    "# Feature Scaling"
   ]
  },
  {
   "cell_type": "code",
   "execution_count": 17,
   "metadata": {},
   "outputs": [],
   "source": [
    "from sklearn.preprocessing import MinMaxScaler,Normalizer, StandardScaler"
   ]
  },
  {
   "cell_type": "code",
   "execution_count": 18,
   "metadata": {},
   "outputs": [],
   "source": [
    "X_std = StandardScaler().fit_transform(train_X)\n",
    "X_norm = Normalizer().fit_transform(train_X)\n",
    "X_mms = MinMaxScaler().fit_transform(train_X)"
   ]
  },
  {
   "cell_type": "code",
   "execution_count": 19,
   "metadata": {},
   "outputs": [
    {
     "data": {
      "image/png": "[encoded data removed]",
      "text/plain": [
       "<Figure size 936x576 with 1 Axes>"
      ]
     },
     "metadata": {
      "needs_background": "light"
     },
     "output_type": "display_data"
    },
    {
     "name": "stdout",
     "output_type": "stream",
     "text": [
      "Best Accuracy with feature scaling: 0.8652777777777778\n",
      "Best kNN classifier: KNeighborsClassifier(algorithm='auto', leaf_size=30, metric='minkowski',\n",
      "                     metric_params=None, n_jobs=None, n_neighbors=4, p=2,\n",
      "                     weights='uniform')\n",
      "Best scaling: std\n"
     ]
    }
   ],
   "source": [
    "neig = np.arange(1,11)\n",
    "kfoldl = 10\n",
    "val_accuracy = {'std':[], 'mms':[],'norm':[]}\n",
    "bestKnn = None\n",
    "bestAcc = 0.0\n",
    "bsetScaling = None\n",
    "y = train_Y\n",
    "for k in neig:\n",
    "    knn = KNeighborsClassifier(n_neighbors=k)\n",
    "    \n",
    "    s1 = cross_val_score(knn, X_std, y, cv = kfoldl).mean()\n",
    "    val_accuracy['std'].append(s1)\n",
    "    s2 = cross_val_score(knn, X_mms, y, cv = kfoldl).mean()\n",
    "    val_accuracy['mms'].append(s2)\n",
    "    s3 = cross_val_score(knn, X_norm, y, cv = kfoldl).mean()\n",
    "    val_accuracy['norm'].append(s3)\n",
    "    if s1 > bestAcc:\n",
    "        bestAcc = s1\n",
    "        bestKnn = knn\n",
    "        bestScaling = 'std'\n",
    "    elif s2 > bestAcc:\n",
    "        bestAcc = s2\n",
    "        bestKnn = knn\n",
    "        bestScaling = 'mms'\n",
    "    elif s3 > bestAcc:\n",
    "        bestAcc = s3\n",
    "        bestKnn = knn\n",
    "        bestScaling = 'norm'\n",
    "# Plot\n",
    "plt.figure(figsize=[13,8])\n",
    "# plt.plot(neig, train_accuracy, label = 'Training Accuracy')\n",
    "plt.plot(neig, val_accuracy['std'], label = 'CV Accuracy with std')\n",
    "plt.plot(neig, val_accuracy['mms'], label = 'CV Accuracy with mms')\n",
    "plt.plot(neig, val_accuracy['norm'], label = 'CV Accuracy with norm')\n",
    "plt.legend()\n",
    "plt.title('k value VS Accuracy')\n",
    "plt.xlabel('Number of Neighbors')\n",
    "plt.ylabel('Accuracy')\n",
    "plt.xticks(neig)\n",
    "plt.show()\n",
    "\n",
    "print('Best Accuracy with feature scaling:', bestAcc)\n",
    "print('Best kNN classifier:', bestKnn)\n",
    "print('Best scaling:', bestScaling) \n"
   ]
  },
  {
   "cell_type": "code",
   "execution_count": 79,
   "metadata": {},
   "outputs": [
    {
     "data": {
      "text/plain": [
       "(0.8743181818181819, 0.8744696969696969, 0.8793181818181818, 0.917699115044248)"
      ]
     },
     "execution_count": 79,
     "metadata": {},
     "output_type": "execute_result"
    }
   ],
   "source": [
    "np.mean(val_accuracy['std']), np.mean(val_accuracy['mms']), np.mean(val_accuracy['norm']), np.mean(train_accuracy)"
   ]
  },
  {
   "cell_type": "code",
   "execution_count": 20,
   "metadata": {},
   "outputs": [
    {
     "name": "stdout",
     "output_type": "stream",
     "text": [
      "0.8527777777777779\n"
     ]
    }
   ],
   "source": [
    "#random forest\n",
    "\n",
    "rfc = RandomForestClassifier(random_state=42, max_depth=3, n_estimators=50)\n",
    "print(cross_val_score(rfc, X_mms, train_Y, cv=10).mean())\n",
    "\n",
    "# save to csv\n",
    "rfc.fit(X_mms, train_Y)\n",
    "rfc_pred = rfc.predict_proba(test_X)[:,1]\n",
    "sub = pd.DataFrame({'name':id,'poi':rfc_pred})\n",
    "# sub['poi'] = sub['poi'].map(lambda x:1 if x> 0.5 else 0)\n",
    "sub.to_csv('Enron_rfc_mms.csv', index=False)"
   ]
  },
  {
   "cell_type": "code",
   "execution_count": 21,
   "metadata": {},
   "outputs": [
    {
     "name": "stdout",
     "output_type": "stream",
     "text": [
      "0.8527777777777779\n"
     ]
    }
   ],
   "source": [
    "#random forest\n",
    "\n",
    "rfc = RandomForestClassifier(random_state=42, max_depth=3, n_estimators=50)\n",
    "print(cross_val_score(rfc, X_std, train_Y, cv=10).mean())\n",
    "\n",
    "# save to csv\n",
    "rfc.fit(X_std, train_Y)\n",
    "rfc_pred = rfc.predict_proba(test_X)[:,1]\n",
    "sub = pd.DataFrame({'name':id,'poi':rfc_pred})\n",
    "# sub['poi'] = sub['poi'].map(lambda x:1 if x> 0.5 else 0)\n",
    "sub.to_csv('Enron_rfc_std.csv', index=False)"
   ]
  },
  {
   "cell_type": "code",
   "execution_count": null,
   "metadata": {},
   "outputs": [],
   "source": []
  },
  {
   "cell_type": "code",
   "execution_count": null,
   "metadata": {},
   "outputs": [],
   "source": []
  },
  {
   "cell_type": "code",
   "execution_count": null,
   "metadata": {},
   "outputs": [],
   "source": []
  },
  {
   "cell_type": "code",
   "execution_count": null,
   "metadata": {},
   "outputs": [],
   "source": []
  },
  {
   "cell_type": "code",
   "execution_count": null,
   "metadata": {},
   "outputs": [],
   "source": []
  },
  {
   "cell_type": "markdown",
   "metadata": {},
   "source": [
    "# Ensemble"
   ]
  },
  {
   "cell_type": "code",
   "execution_count": 20,
   "metadata": {},
   "outputs": [],
   "source": [
    "from mlxtend.regressor import StackingRegressor\n",
    "meta_estimator = GradientBoostingRegressor(tol=10, subsample=0.44, n_estimators=100, \n",
    "                                           max_features='log2', max_depth=4, learning_rate=0.1)\n",
    "stacking = StackingRegressor(regressors=[linear, rf], meta_regressor=meta_estimator)"
   ]
  },
  {
   "cell_type": "code",
   "execution_count": 25,
   "metadata": {},
   "outputs": [],
   "source": [
    "stacking.fit(train_X, train_Y)\n",
    "stacking_pred = stacking.predict(test_X)\n",
    "sub = pd.DataFrame({'name':id,'poi':stacking_pred})\n",
    "sub.to_csv('Enron_stacking.csv', index=False)"
   ]
  },
  {
   "cell_type": "code",
   "execution_count": 105,
   "metadata": {},
   "outputs": [],
   "source": [
    "blending_pred = linear_pred*0.85 + rf_pred*0.15\n",
    "sub = pd.DataFrame({'name':id,'poi':np.expm1(stacking_pred)})\n",
    "sub.to_csv('Enron_blending.csv', index=False)"
   ]
  },
  {
   "cell_type": "code",
   "execution_count": 23,
   "metadata": {},
   "outputs": [
    {
     "data": {
      "text/plain": [
       "0.0013782589383015131"
      ]
     },
     "execution_count": 23,
     "metadata": {},
     "output_type": "execute_result"
    }
   ],
   "source": [
    "cross_val_score(linear, train_X, train_Y, cv=10).mean()"
   ]
  },
  {
   "cell_type": "code",
   "execution_count": 24,
   "metadata": {},
   "outputs": [
    {
     "data": {
      "text/plain": [
       "0.005013028397623265"
      ]
     },
     "execution_count": 24,
     "metadata": {},
     "output_type": "execute_result"
    }
   ],
   "source": [
    "cross_val_score(rf, train_X, train_Y, cv=10).mean()"
   ]
  },
  {
   "cell_type": "code",
   "execution_count": 61,
   "metadata": {},
   "outputs": [
    {
     "data": {
      "text/html": [
       "<div>\n",
       "<style scoped>\n",
       "    .dataframe tbody tr th:only-of-type {\n",
       "        vertical-align: middle;\n",
       "    }\n",
       "\n",
       "    .dataframe tbody tr th {\n",
       "        vertical-align: top;\n",
       "    }\n",
       "\n",
       "    .dataframe thead th {\n",
       "        text-align: right;\n",
       "    }\n",
       "</style>\n",
       "<table border=\"1\" class=\"dataframe\">\n",
       "  <thead>\n",
       "    <tr style=\"text-align: right;\">\n",
       "      <th></th>\n",
       "      <th>name</th>\n",
       "      <th>poi</th>\n",
       "    </tr>\n",
       "  </thead>\n",
       "  <tbody>\n",
       "    <tr>\n",
       "      <th>0</th>\n",
       "      <td>BELDEN TIMOTHY N</td>\n",
       "      <td>-0.001098</td>\n",
       "    </tr>\n",
       "    <tr>\n",
       "      <th>1</th>\n",
       "      <td>BOWEN JR RAYMOND M</td>\n",
       "      <td>-0.241281</td>\n",
       "    </tr>\n",
       "    <tr>\n",
       "      <th>2</th>\n",
       "      <td>HANNON KEVIN P</td>\n",
       "      <td>-0.007341</td>\n",
       "    </tr>\n",
       "    <tr>\n",
       "      <th>3</th>\n",
       "      <td>DELAINEY DAVID W</td>\n",
       "      <td>0.007172</td>\n",
       "    </tr>\n",
       "    <tr>\n",
       "      <th>4</th>\n",
       "      <td>CAUSEY RICHARD A</td>\n",
       "      <td>0.972287</td>\n",
       "    </tr>\n",
       "  </tbody>\n",
       "</table>\n",
       "</div>"
      ],
      "text/plain": [
       "                 name       poi\n",
       "0    BELDEN TIMOTHY N -0.001098\n",
       "1  BOWEN JR RAYMOND M -0.241281\n",
       "2      HANNON KEVIN P -0.007341\n",
       "3    DELAINEY DAVID W  0.007172\n",
       "4    CAUSEY RICHARD A  0.972287"
      ]
     },
     "execution_count": 61,
     "metadata": {},
     "output_type": "execute_result"
    }
   ],
   "source": [
    "pd.read_csv('Enron_stacking.csv').head()"
   ]
  },
  {
   "cell_type": "code",
   "execution_count": 60,
   "metadata": {},
   "outputs": [
    {
     "data": {
      "text/html": [
       "<div>\n",
       "<style scoped>\n",
       "    .dataframe tbody tr th:only-of-type {\n",
       "        vertical-align: middle;\n",
       "    }\n",
       "\n",
       "    .dataframe tbody tr th {\n",
       "        vertical-align: top;\n",
       "    }\n",
       "\n",
       "    .dataframe thead th {\n",
       "        text-align: right;\n",
       "    }\n",
       "</style>\n",
       "<table border=\"1\" class=\"dataframe\">\n",
       "  <thead>\n",
       "    <tr style=\"text-align: right;\">\n",
       "      <th></th>\n",
       "      <th>name</th>\n",
       "      <th>poi</th>\n",
       "    </tr>\n",
       "  </thead>\n",
       "  <tbody>\n",
       "    <tr>\n",
       "      <th>0</th>\n",
       "      <td>BELDEN TIMOTHY N</td>\n",
       "      <td>0.021597</td>\n",
       "    </tr>\n",
       "    <tr>\n",
       "      <th>1</th>\n",
       "      <td>BOWEN JR RAYMOND M</td>\n",
       "      <td>-0.039751</td>\n",
       "    </tr>\n",
       "    <tr>\n",
       "      <th>2</th>\n",
       "      <td>HANNON KEVIN P</td>\n",
       "      <td>0.342513</td>\n",
       "    </tr>\n",
       "    <tr>\n",
       "      <th>3</th>\n",
       "      <td>DELAINEY DAVID W</td>\n",
       "      <td>0.389160</td>\n",
       "    </tr>\n",
       "    <tr>\n",
       "      <th>4</th>\n",
       "      <td>CAUSEY RICHARD A</td>\n",
       "      <td>1.526852</td>\n",
       "    </tr>\n",
       "  </tbody>\n",
       "</table>\n",
       "</div>"
      ],
      "text/plain": [
       "                 name       poi\n",
       "0    BELDEN TIMOTHY N  0.021597\n",
       "1  BOWEN JR RAYMOND M -0.039751\n",
       "2      HANNON KEVIN P  0.342513\n",
       "3    DELAINEY DAVID W  0.389160\n",
       "4    CAUSEY RICHARD A  1.526852"
      ]
     },
     "execution_count": 60,
     "metadata": {},
     "output_type": "execute_result"
    }
   ],
   "source": [
    "pd.read_csv('Enron_blending.csv').head()"
   ]
  },
  {
   "cell_type": "code",
   "execution_count": 78,
   "metadata": {},
   "outputs": [
    {
     "data": {
      "text/html": [
       "<div>\n",
       "<style scoped>\n",
       "    .dataframe tbody tr th:only-of-type {\n",
       "        vertical-align: middle;\n",
       "    }\n",
       "\n",
       "    .dataframe tbody tr th {\n",
       "        vertical-align: top;\n",
       "    }\n",
       "\n",
       "    .dataframe thead th {\n",
       "        text-align: right;\n",
       "    }\n",
       "</style>\n",
       "<table border=\"1\" class=\"dataframe\">\n",
       "  <thead>\n",
       "    <tr style=\"text-align: right;\">\n",
       "      <th></th>\n",
       "      <th>name</th>\n",
       "      <th>poi</th>\n",
       "    </tr>\n",
       "  </thead>\n",
       "  <tbody>\n",
       "    <tr>\n",
       "      <th>0</th>\n",
       "      <td>BELDEN TIMOTHY N</td>\n",
       "      <td>0.154762</td>\n",
       "    </tr>\n",
       "    <tr>\n",
       "      <th>1</th>\n",
       "      <td>BOWEN JR RAYMOND M</td>\n",
       "      <td>0.154762</td>\n",
       "    </tr>\n",
       "    <tr>\n",
       "      <th>2</th>\n",
       "      <td>HANNON KEVIN P</td>\n",
       "      <td>0.154762</td>\n",
       "    </tr>\n",
       "    <tr>\n",
       "      <th>3</th>\n",
       "      <td>DELAINEY DAVID W</td>\n",
       "      <td>0.154762</td>\n",
       "    </tr>\n",
       "    <tr>\n",
       "      <th>4</th>\n",
       "      <td>CAUSEY RICHARD A</td>\n",
       "      <td>0.154762</td>\n",
       "    </tr>\n",
       "  </tbody>\n",
       "</table>\n",
       "</div>"
      ],
      "text/plain": [
       "                 name       poi\n",
       "0    BELDEN TIMOTHY N  0.154762\n",
       "1  BOWEN JR RAYMOND M  0.154762\n",
       "2      HANNON KEVIN P  0.154762\n",
       "3    DELAINEY DAVID W  0.154762\n",
       "4    CAUSEY RICHARD A  0.154762"
      ]
     },
     "execution_count": 78,
     "metadata": {},
     "output_type": "execute_result"
    }
   ],
   "source": [
    "pd.read_csv('Enron_linear.csv').head()"
   ]
  },
  {
   "cell_type": "code",
   "execution_count": null,
   "metadata": {},
   "outputs": [],
   "source": []
  }
 ],
 "metadata": {
  "kernelspec": {
   "display_name": "Python 3",
   "language": "python",
   "name": "python3"
  },
  "language_info": {
   "codemirror_mode": {
    "name": "ipython",
    "version": 3
   },
   "file_extension": ".py",
   "mimetype": "text/x-python",
   "name": "python",
   "nbconvert_exporter": "python",
   "pygments_lexer": "ipython3",
   "version": "3.6.9"
  }
 },
 "nbformat": 4,
 "nbformat_minor": 2
}
